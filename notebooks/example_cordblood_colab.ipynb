{
  "cells": [
    {
      "cell_type": "markdown",
      "source": [
        "# Setup Instructions"
      ],
      "metadata": {
        "id": "KFjxSFgAa1sW"
      },
      "id": "KFjxSFgAa1sW"
    },
    {
      "cell_type": "markdown",
      "source": [
        "Please run the following cell to install the required packages.  \n",
        "\n",
        "- After installation, a **runtime restart** is required because Colab’s default packages (e.g., NumPy) are newer than those required by CytoTRACE2, which may lead to compatibility issues.\n",
        "  - Please click **Runtime → Restart session and run all** to execute the notebook from the top.  \n",
        "The installation cell will run briefly again. This is expected and completely fine."
      ],
      "metadata": {
        "id": "UTjkxlZBegr9"
      },
      "id": "UTjkxlZBegr9"
    },
    {
      "cell_type": "code",
      "execution_count": 1,
      "id": "be5076e6-77e0-4c49-8667-7969d1e4ec02",
      "metadata": {
        "id": "be5076e6-77e0-4c49-8667-7969d1e4ec02",
        "outputId": "8f47b67e-c556-4502-de13-871f80a3ebeb",
        "colab": {
          "base_uri": "https://localhost:8080/"
        }
      },
      "outputs": [
        {
          "output_type": "stream",
          "name": "stdout",
          "text": [
            "Requirement already satisfied: cytotrace2-py==1.1.0.3 in /usr/local/lib/python3.11/dist-packages (1.1.0.3)\n",
            "Requirement already satisfied: seaborn==0.13.2 in /usr/local/lib/python3.11/dist-packages (0.13.2)\n",
            "Requirement already satisfied: scanpy==1.11.2 in /usr/local/lib/python3.11/dist-packages (1.11.2)\n",
            "Requirement already satisfied: anndata==0.11.4 in /usr/local/lib/python3.11/dist-packages (0.11.4)\n",
            "Requirement already satisfied: numpy<2.0.0 in /usr/local/lib/python3.11/dist-packages (from cytotrace2-py==1.1.0.3) (1.26.4)\n",
            "Requirement already satisfied: pandas in /usr/local/lib/python3.11/dist-packages (from cytotrace2-py==1.1.0.3) (2.2.2)\n",
            "Requirement already satisfied: scipy in /usr/local/lib/python3.11/dist-packages (from cytotrace2-py==1.1.0.3) (1.15.3)\n",
            "Requirement already satisfied: scikit-learn>=1.0.2 in /usr/local/lib/python3.11/dist-packages (from cytotrace2-py==1.1.0.3) (1.6.1)\n",
            "Requirement already satisfied: torch>=2.0.0 in /usr/local/lib/python3.11/dist-packages (from cytotrace2-py==1.1.0.3) (2.6.0+cu124)\n",
            "Requirement already satisfied: gdown in /usr/local/lib/python3.11/dist-packages (from cytotrace2-py==1.1.0.3) (5.2.0)\n",
            "Requirement already satisfied: matplotlib!=3.6.1,>=3.4 in /usr/local/lib/python3.11/dist-packages (from seaborn==0.13.2) (3.10.0)\n",
            "Requirement already satisfied: h5py>=3.7.0 in /usr/local/lib/python3.11/dist-packages (from scanpy==1.11.2) (3.14.0)\n",
            "Requirement already satisfied: joblib in /usr/local/lib/python3.11/dist-packages (from scanpy==1.11.2) (1.5.1)\n",
            "Requirement already satisfied: legacy-api-wrap>=1.4.1 in /usr/local/lib/python3.11/dist-packages (from scanpy==1.11.2) (1.4.1)\n",
            "Requirement already satisfied: natsort in /usr/local/lib/python3.11/dist-packages (from scanpy==1.11.2) (8.4.0)\n",
            "Requirement already satisfied: networkx>=2.7.1 in /usr/local/lib/python3.11/dist-packages (from scanpy==1.11.2) (3.5)\n",
            "Requirement already satisfied: numba>=0.57.1 in /usr/local/lib/python3.11/dist-packages (from scanpy==1.11.2) (0.60.0)\n",
            "Requirement already satisfied: packaging>=21.3 in /usr/local/lib/python3.11/dist-packages (from scanpy==1.11.2) (24.2)\n",
            "Requirement already satisfied: patsy!=1.0.0 in /usr/local/lib/python3.11/dist-packages (from scanpy==1.11.2) (1.0.1)\n",
            "Requirement already satisfied: pynndescent>=0.5.13 in /usr/local/lib/python3.11/dist-packages (from scanpy==1.11.2) (0.5.13)\n",
            "Requirement already satisfied: session-info2 in /usr/local/lib/python3.11/dist-packages (from scanpy==1.11.2) (0.1.2)\n",
            "Requirement already satisfied: statsmodels>=0.14.4 in /usr/local/lib/python3.11/dist-packages (from scanpy==1.11.2) (0.14.4)\n",
            "Requirement already satisfied: tqdm in /usr/local/lib/python3.11/dist-packages (from scanpy==1.11.2) (4.67.1)\n",
            "Requirement already satisfied: typing-extensions in /usr/local/lib/python3.11/dist-packages (from scanpy==1.11.2) (4.14.0)\n",
            "Requirement already satisfied: umap-learn>=0.5.6 in /usr/local/lib/python3.11/dist-packages (from scanpy==1.11.2) (0.5.7)\n",
            "Requirement already satisfied: array-api-compat!=1.5,>1.4 in /usr/local/lib/python3.11/dist-packages (from anndata==0.11.4) (1.12.0)\n",
            "Requirement already satisfied: contourpy>=1.0.1 in /usr/local/lib/python3.11/dist-packages (from matplotlib!=3.6.1,>=3.4->seaborn==0.13.2) (1.3.2)\n",
            "Requirement already satisfied: cycler>=0.10 in /usr/local/lib/python3.11/dist-packages (from matplotlib!=3.6.1,>=3.4->seaborn==0.13.2) (0.12.1)\n",
            "Requirement already satisfied: fonttools>=4.22.0 in /usr/local/lib/python3.11/dist-packages (from matplotlib!=3.6.1,>=3.4->seaborn==0.13.2) (4.58.4)\n",
            "Requirement already satisfied: kiwisolver>=1.3.1 in /usr/local/lib/python3.11/dist-packages (from matplotlib!=3.6.1,>=3.4->seaborn==0.13.2) (1.4.8)\n",
            "Requirement already satisfied: pillow>=8 in /usr/local/lib/python3.11/dist-packages (from matplotlib!=3.6.1,>=3.4->seaborn==0.13.2) (11.2.1)\n",
            "Requirement already satisfied: pyparsing>=2.3.1 in /usr/local/lib/python3.11/dist-packages (from matplotlib!=3.6.1,>=3.4->seaborn==0.13.2) (3.2.3)\n",
            "Requirement already satisfied: python-dateutil>=2.7 in /usr/local/lib/python3.11/dist-packages (from matplotlib!=3.6.1,>=3.4->seaborn==0.13.2) (2.9.0.post0)\n",
            "Requirement already satisfied: llvmlite<0.44,>=0.43.0dev0 in /usr/local/lib/python3.11/dist-packages (from numba>=0.57.1->scanpy==1.11.2) (0.43.0)\n",
            "Requirement already satisfied: pytz>=2020.1 in /usr/local/lib/python3.11/dist-packages (from pandas->cytotrace2-py==1.1.0.3) (2025.2)\n",
            "Requirement already satisfied: tzdata>=2022.7 in /usr/local/lib/python3.11/dist-packages (from pandas->cytotrace2-py==1.1.0.3) (2025.2)\n",
            "Requirement already satisfied: threadpoolctl>=3.1.0 in /usr/local/lib/python3.11/dist-packages (from scikit-learn>=1.0.2->cytotrace2-py==1.1.0.3) (3.6.0)\n",
            "Requirement already satisfied: filelock in /usr/local/lib/python3.11/dist-packages (from torch>=2.0.0->cytotrace2-py==1.1.0.3) (3.18.0)\n",
            "Requirement already satisfied: jinja2 in /usr/local/lib/python3.11/dist-packages (from torch>=2.0.0->cytotrace2-py==1.1.0.3) (3.1.6)\n",
            "Requirement already satisfied: fsspec in /usr/local/lib/python3.11/dist-packages (from torch>=2.0.0->cytotrace2-py==1.1.0.3) (2025.3.2)\n",
            "Requirement already satisfied: nvidia-cuda-nvrtc-cu12==12.4.127 in /usr/local/lib/python3.11/dist-packages (from torch>=2.0.0->cytotrace2-py==1.1.0.3) (12.4.127)\n",
            "Requirement already satisfied: nvidia-cuda-runtime-cu12==12.4.127 in /usr/local/lib/python3.11/dist-packages (from torch>=2.0.0->cytotrace2-py==1.1.0.3) (12.4.127)\n",
            "Requirement already satisfied: nvidia-cuda-cupti-cu12==12.4.127 in /usr/local/lib/python3.11/dist-packages (from torch>=2.0.0->cytotrace2-py==1.1.0.3) (12.4.127)\n",
            "Requirement already satisfied: nvidia-cudnn-cu12==9.1.0.70 in /usr/local/lib/python3.11/dist-packages (from torch>=2.0.0->cytotrace2-py==1.1.0.3) (9.1.0.70)\n",
            "Requirement already satisfied: nvidia-cublas-cu12==12.4.5.8 in /usr/local/lib/python3.11/dist-packages (from torch>=2.0.0->cytotrace2-py==1.1.0.3) (12.4.5.8)\n",
            "Requirement already satisfied: nvidia-cufft-cu12==11.2.1.3 in /usr/local/lib/python3.11/dist-packages (from torch>=2.0.0->cytotrace2-py==1.1.0.3) (11.2.1.3)\n",
            "Requirement already satisfied: nvidia-curand-cu12==10.3.5.147 in /usr/local/lib/python3.11/dist-packages (from torch>=2.0.0->cytotrace2-py==1.1.0.3) (10.3.5.147)\n",
            "Requirement already satisfied: nvidia-cusolver-cu12==11.6.1.9 in /usr/local/lib/python3.11/dist-packages (from torch>=2.0.0->cytotrace2-py==1.1.0.3) (11.6.1.9)\n",
            "Requirement already satisfied: nvidia-cusparse-cu12==12.3.1.170 in /usr/local/lib/python3.11/dist-packages (from torch>=2.0.0->cytotrace2-py==1.1.0.3) (12.3.1.170)\n",
            "Requirement already satisfied: nvidia-cusparselt-cu12==0.6.2 in /usr/local/lib/python3.11/dist-packages (from torch>=2.0.0->cytotrace2-py==1.1.0.3) (0.6.2)\n",
            "Requirement already satisfied: nvidia-nccl-cu12==2.21.5 in /usr/local/lib/python3.11/dist-packages (from torch>=2.0.0->cytotrace2-py==1.1.0.3) (2.21.5)\n",
            "Requirement already satisfied: nvidia-nvtx-cu12==12.4.127 in /usr/local/lib/python3.11/dist-packages (from torch>=2.0.0->cytotrace2-py==1.1.0.3) (12.4.127)\n",
            "Requirement already satisfied: nvidia-nvjitlink-cu12==12.4.127 in /usr/local/lib/python3.11/dist-packages (from torch>=2.0.0->cytotrace2-py==1.1.0.3) (12.4.127)\n",
            "Requirement already satisfied: triton==3.2.0 in /usr/local/lib/python3.11/dist-packages (from torch>=2.0.0->cytotrace2-py==1.1.0.3) (3.2.0)\n",
            "Requirement already satisfied: sympy==1.13.1 in /usr/local/lib/python3.11/dist-packages (from torch>=2.0.0->cytotrace2-py==1.1.0.3) (1.13.1)\n",
            "Requirement already satisfied: mpmath<1.4,>=1.1.0 in /usr/local/lib/python3.11/dist-packages (from sympy==1.13.1->torch>=2.0.0->cytotrace2-py==1.1.0.3) (1.3.0)\n",
            "Requirement already satisfied: beautifulsoup4 in /usr/local/lib/python3.11/dist-packages (from gdown->cytotrace2-py==1.1.0.3) (4.13.4)\n",
            "Requirement already satisfied: requests[socks] in /usr/local/lib/python3.11/dist-packages (from gdown->cytotrace2-py==1.1.0.3) (2.32.3)\n",
            "Requirement already satisfied: six>=1.5 in /usr/local/lib/python3.11/dist-packages (from python-dateutil>=2.7->matplotlib!=3.6.1,>=3.4->seaborn==0.13.2) (1.17.0)\n",
            "Requirement already satisfied: soupsieve>1.2 in /usr/local/lib/python3.11/dist-packages (from beautifulsoup4->gdown->cytotrace2-py==1.1.0.3) (2.7)\n",
            "Requirement already satisfied: MarkupSafe>=2.0 in /usr/local/lib/python3.11/dist-packages (from jinja2->torch>=2.0.0->cytotrace2-py==1.1.0.3) (3.0.2)\n",
            "Requirement already satisfied: charset-normalizer<4,>=2 in /usr/local/lib/python3.11/dist-packages (from requests[socks]->gdown->cytotrace2-py==1.1.0.3) (3.4.2)\n",
            "Requirement already satisfied: idna<4,>=2.5 in /usr/local/lib/python3.11/dist-packages (from requests[socks]->gdown->cytotrace2-py==1.1.0.3) (3.10)\n",
            "Requirement already satisfied: urllib3<3,>=1.21.1 in /usr/local/lib/python3.11/dist-packages (from requests[socks]->gdown->cytotrace2-py==1.1.0.3) (2.4.0)\n",
            "Requirement already satisfied: certifi>=2017.4.17 in /usr/local/lib/python3.11/dist-packages (from requests[socks]->gdown->cytotrace2-py==1.1.0.3) (2025.6.15)\n",
            "Requirement already satisfied: PySocks!=1.5.7,>=1.5.6 in /usr/local/lib/python3.11/dist-packages (from requests[socks]->gdown->cytotrace2-py==1.1.0.3) (1.7.1)\n"
          ]
        }
      ],
      "source": [
        "!pip install \\\n",
        "  cytotrace2-py==1.1.0.3 \\\n",
        "  seaborn==0.13.2 \\\n",
        "  scanpy==1.11.2 \\\n",
        "  anndata==0.11.4"
      ]
    },
    {
      "cell_type": "markdown",
      "source": [
        "# **To run the entire notebook:** click Runtime → Run all"
      ],
      "metadata": {
        "id": "gFgB2ohKO-ZU"
      },
      "id": "gFgB2ohKO-ZU"
    },
    {
      "cell_type": "code",
      "execution_count": 2,
      "id": "d16910b7-a6c5-4a87-9849-b14b22975a88",
      "metadata": {
        "id": "d16910b7-a6c5-4a87-9849-b14b22975a88"
      },
      "outputs": [],
      "source": [
        "import warnings\n",
        "import logging\n",
        "import matplotlib\n",
        "from numba.core.errors import NumbaWarning\n",
        "\n",
        "# suppress the Helvetica font\n",
        "warnings.filterwarnings(\"ignore\", message=\"findfont: Font family\")\n",
        "# Suppress font-related messages\n",
        "logging.getLogger('matplotlib.font_manager').setLevel(logging.ERROR)\n",
        "\n",
        "# Suppress the deprecation warning from cytotrace2_py\n",
        "warnings.filterwarnings(\n",
        "    \"ignore\",\n",
        "    message=\"pkg_resources is deprecated as an API.*\",\n",
        "    category=UserWarning,\n",
        "    module=\"cytotrace2_py.common.gen_utils\"\n",
        ")\n",
        "# Suppress numba warning\n",
        "warnings.filterwarnings(\"ignore\", category=NumbaWarning)"
      ]
    },
    {
      "cell_type": "code",
      "execution_count": 3,
      "id": "0a0efc88-0d21-419a-b646-c76490d35fee",
      "metadata": {
        "id": "0a0efc88-0d21-419a-b646-c76490d35fee"
      },
      "outputs": [],
      "source": [
        "import gdown\n",
        "import numpy\n",
        "import os\n",
        "import requests\n",
        "import pandas as pd\n",
        "from cytotrace2_py.cytotrace2_py import cytotrace2\n",
        "import matplotlib.pyplot as plt"
      ]
    },
    {
      "cell_type": "code",
      "execution_count": 4,
      "id": "958dc654-4ab1-4e3a-89be-10cad6dedcd6",
      "metadata": {
        "id": "958dc654-4ab1-4e3a-89be-10cad6dedcd6"
      },
      "outputs": [],
      "source": [
        "os.makedirs(\"data\", exist_ok=True)"
      ]
    },
    {
      "cell_type": "code",
      "execution_count": 5,
      "id": "34372308-ea59-4986-ad3a-599662ec8785",
      "metadata": {
        "id": "34372308-ea59-4986-ad3a-599662ec8785",
        "outputId": "38b20a19-f783-445d-d6a6-e7c0fd4aa703",
        "colab": {
          "base_uri": "https://localhost:8080/"
        }
      },
      "outputs": [
        {
          "output_type": "stream",
          "name": "stderr",
          "text": [
            "Downloading...\n",
            "From: https://drive.google.com/uc?id=1EsUXJbqZCx143ELBplC5gOZpQPPfuGXM\n",
            "To: /content/data/Cord_blood_CITE_seq_downsampled_expression.txt\n",
            "100%|██████████| 94.5M/94.5M [00:00<00:00, 271MB/s]\n",
            "Downloading...\n",
            "From: https://drive.google.com/uc?id=1zAA69hlLTMs1h2UohEAImzJH0eZIdLFg\n",
            "To: /content/data/Cord_blood_CITE_seq_downsampled_annotation.txt\n",
            "100%|██████████| 59.0k/59.0k [00:00<00:00, 54.5MB/s]\n"
          ]
        }
      ],
      "source": [
        "outputs = [\"data/Cord_blood_CITE_seq_downsampled_expression.txt\", \"data/Cord_blood_CITE_seq_downsampled_annotation.txt\"]\n",
        "file_ids = [\"1EsUXJbqZCx143ELBplC5gOZpQPPfuGXM\", \"1zAA69hlLTMs1h2UohEAImzJH0eZIdLFg\"]\n",
        "for i, f_id in enumerate(file_ids):\n",
        "    url = f\"https://drive.google.com/uc?id={f_id}\"\n",
        "    # Download only if the file doesn't already exist\n",
        "    if not os.path.exists(outputs[i]):\n",
        "        gdown.download(url, outputs[i], quiet=False)\n",
        "    else:\n",
        "        print(\"Dataset already downloaded.\")"
      ]
    },
    {
      "cell_type": "code",
      "execution_count": 6,
      "id": "6c16baac-1f47-4e44-88e3-db49f7f3b7c7",
      "metadata": {
        "id": "6c16baac-1f47-4e44-88e3-db49f7f3b7c7",
        "outputId": "4439a683-9845-4117-ed2e-2ab0c6eb35e4",
        "colab": {
          "base_uri": "https://localhost:8080/",
          "height": 308
        }
      },
      "outputs": [
        {
          "output_type": "stream",
          "name": "stdout",
          "text": [
            "Expression shape: (20401, 2308)\n"
          ]
        },
        {
          "output_type": "execute_result",
          "data": {
            "text/plain": [
              "          TTTATGCGTCCGTTAA  GCATGATCACAACGTT  GGTATTGTCCAGTATG  \\\n",
              "A1BG                     0                 0                 0   \n",
              "A1BG-AS1                 0                 0                 0   \n",
              "A1CF                     0                 0                 0   \n",
              "A2M                      0                 0                 0   \n",
              "A2M-AS1                  0                 0                 0   \n",
              "\n",
              "          CGCTTCACAGTGGAGT  TCCCGATTCCTCATTA  CTAGTGATCGAATGGG  \\\n",
              "A1BG                     0                 0                 0   \n",
              "A1BG-AS1                 0                 0                 0   \n",
              "A1CF                     0                 0                 0   \n",
              "A2M                      0                 0                 0   \n",
              "A2M-AS1                  0                 0                 0   \n",
              "\n",
              "          GTCACGGCATGTTCCC  TTGTAGGGTGTTGGGA  ATGCGATTCGGTGTTA  \\\n",
              "A1BG                     0                 0                 0   \n",
              "A1BG-AS1                 0                 0                 0   \n",
              "A1CF                     0                 0                 0   \n",
              "A2M                      0                 0                 0   \n",
              "A2M-AS1                  0                 0                 0   \n",
              "\n",
              "          AAACGGGCAATCCAAC  ...  CATCAGAGTTACAGAA  TTAGGACAGACGACGT  \\\n",
              "A1BG                     0  ...                 0                 0   \n",
              "A1BG-AS1                 0  ...                 0                 0   \n",
              "A1CF                     0  ...                 0                 0   \n",
              "A2M                      0  ...                 0                 0   \n",
              "A2M-AS1                  0  ...                 0                 0   \n",
              "\n",
              "          TATGCCCTCTTCTGGC  CTCGGAGCAACACCCG  GCTCCTACACTGAAGG  \\\n",
              "A1BG                     0                 0                 0   \n",
              "A1BG-AS1                 0                 0                 0   \n",
              "A1CF                     0                 0                 0   \n",
              "A2M                      0                 0                 0   \n",
              "A2M-AS1                  0                 0                 0   \n",
              "\n",
              "          AGATTGCGTTAGGGTG  AACTTTCTCGACAGCC  TGACAACCAAGCCATT  \\\n",
              "A1BG                     0                 0                 0   \n",
              "A1BG-AS1                 0                 0                 0   \n",
              "A1CF                     0                 0                 0   \n",
              "A2M                      0                 0                 0   \n",
              "A2M-AS1                  0                 0                 0   \n",
              "\n",
              "          TTTCCTCGTACCGCTG  TGCCCATAGGATGGAA  \n",
              "A1BG                     0                 0  \n",
              "A1BG-AS1                 0                 0  \n",
              "A1CF                     0                 0  \n",
              "A2M                      0                 0  \n",
              "A2M-AS1                  0                 0  \n",
              "\n",
              "[5 rows x 2308 columns]"
            ],
            "text/html": [
              "\n",
              "  <div id=\"df-990b52b2-e186-4b1c-a9c2-bbfcf6695267\" class=\"colab-df-container\">\n",
              "    <div>\n",
              "<style scoped>\n",
              "    .dataframe tbody tr th:only-of-type {\n",
              "        vertical-align: middle;\n",
              "    }\n",
              "\n",
              "    .dataframe tbody tr th {\n",
              "        vertical-align: top;\n",
              "    }\n",
              "\n",
              "    .dataframe thead th {\n",
              "        text-align: right;\n",
              "    }\n",
              "</style>\n",
              "<table border=\"1\" class=\"dataframe\">\n",
              "  <thead>\n",
              "    <tr style=\"text-align: right;\">\n",
              "      <th></th>\n",
              "      <th>TTTATGCGTCCGTTAA</th>\n",
              "      <th>GCATGATCACAACGTT</th>\n",
              "      <th>GGTATTGTCCAGTATG</th>\n",
              "      <th>CGCTTCACAGTGGAGT</th>\n",
              "      <th>TCCCGATTCCTCATTA</th>\n",
              "      <th>CTAGTGATCGAATGGG</th>\n",
              "      <th>GTCACGGCATGTTCCC</th>\n",
              "      <th>TTGTAGGGTGTTGGGA</th>\n",
              "      <th>ATGCGATTCGGTGTTA</th>\n",
              "      <th>AAACGGGCAATCCAAC</th>\n",
              "      <th>...</th>\n",
              "      <th>CATCAGAGTTACAGAA</th>\n",
              "      <th>TTAGGACAGACGACGT</th>\n",
              "      <th>TATGCCCTCTTCTGGC</th>\n",
              "      <th>CTCGGAGCAACACCCG</th>\n",
              "      <th>GCTCCTACACTGAAGG</th>\n",
              "      <th>AGATTGCGTTAGGGTG</th>\n",
              "      <th>AACTTTCTCGACAGCC</th>\n",
              "      <th>TGACAACCAAGCCATT</th>\n",
              "      <th>TTTCCTCGTACCGCTG</th>\n",
              "      <th>TGCCCATAGGATGGAA</th>\n",
              "    </tr>\n",
              "  </thead>\n",
              "  <tbody>\n",
              "    <tr>\n",
              "      <th>A1BG</th>\n",
              "      <td>0</td>\n",
              "      <td>0</td>\n",
              "      <td>0</td>\n",
              "      <td>0</td>\n",
              "      <td>0</td>\n",
              "      <td>0</td>\n",
              "      <td>0</td>\n",
              "      <td>0</td>\n",
              "      <td>0</td>\n",
              "      <td>0</td>\n",
              "      <td>...</td>\n",
              "      <td>0</td>\n",
              "      <td>0</td>\n",
              "      <td>0</td>\n",
              "      <td>0</td>\n",
              "      <td>0</td>\n",
              "      <td>0</td>\n",
              "      <td>0</td>\n",
              "      <td>0</td>\n",
              "      <td>0</td>\n",
              "      <td>0</td>\n",
              "    </tr>\n",
              "    <tr>\n",
              "      <th>A1BG-AS1</th>\n",
              "      <td>0</td>\n",
              "      <td>0</td>\n",
              "      <td>0</td>\n",
              "      <td>0</td>\n",
              "      <td>0</td>\n",
              "      <td>0</td>\n",
              "      <td>0</td>\n",
              "      <td>0</td>\n",
              "      <td>0</td>\n",
              "      <td>0</td>\n",
              "      <td>...</td>\n",
              "      <td>0</td>\n",
              "      <td>0</td>\n",
              "      <td>0</td>\n",
              "      <td>0</td>\n",
              "      <td>0</td>\n",
              "      <td>0</td>\n",
              "      <td>0</td>\n",
              "      <td>0</td>\n",
              "      <td>0</td>\n",
              "      <td>0</td>\n",
              "    </tr>\n",
              "    <tr>\n",
              "      <th>A1CF</th>\n",
              "      <td>0</td>\n",
              "      <td>0</td>\n",
              "      <td>0</td>\n",
              "      <td>0</td>\n",
              "      <td>0</td>\n",
              "      <td>0</td>\n",
              "      <td>0</td>\n",
              "      <td>0</td>\n",
              "      <td>0</td>\n",
              "      <td>0</td>\n",
              "      <td>...</td>\n",
              "      <td>0</td>\n",
              "      <td>0</td>\n",
              "      <td>0</td>\n",
              "      <td>0</td>\n",
              "      <td>0</td>\n",
              "      <td>0</td>\n",
              "      <td>0</td>\n",
              "      <td>0</td>\n",
              "      <td>0</td>\n",
              "      <td>0</td>\n",
              "    </tr>\n",
              "    <tr>\n",
              "      <th>A2M</th>\n",
              "      <td>0</td>\n",
              "      <td>0</td>\n",
              "      <td>0</td>\n",
              "      <td>0</td>\n",
              "      <td>0</td>\n",
              "      <td>0</td>\n",
              "      <td>0</td>\n",
              "      <td>0</td>\n",
              "      <td>0</td>\n",
              "      <td>0</td>\n",
              "      <td>...</td>\n",
              "      <td>0</td>\n",
              "      <td>0</td>\n",
              "      <td>0</td>\n",
              "      <td>0</td>\n",
              "      <td>0</td>\n",
              "      <td>0</td>\n",
              "      <td>0</td>\n",
              "      <td>0</td>\n",
              "      <td>0</td>\n",
              "      <td>0</td>\n",
              "    </tr>\n",
              "    <tr>\n",
              "      <th>A2M-AS1</th>\n",
              "      <td>0</td>\n",
              "      <td>0</td>\n",
              "      <td>0</td>\n",
              "      <td>0</td>\n",
              "      <td>0</td>\n",
              "      <td>0</td>\n",
              "      <td>0</td>\n",
              "      <td>0</td>\n",
              "      <td>0</td>\n",
              "      <td>0</td>\n",
              "      <td>...</td>\n",
              "      <td>0</td>\n",
              "      <td>0</td>\n",
              "      <td>0</td>\n",
              "      <td>0</td>\n",
              "      <td>0</td>\n",
              "      <td>0</td>\n",
              "      <td>0</td>\n",
              "      <td>0</td>\n",
              "      <td>0</td>\n",
              "      <td>0</td>\n",
              "    </tr>\n",
              "  </tbody>\n",
              "</table>\n",
              "<p>5 rows × 2308 columns</p>\n",
              "</div>\n",
              "    <div class=\"colab-df-buttons\">\n",
              "\n",
              "  <div class=\"colab-df-container\">\n",
              "    <button class=\"colab-df-convert\" onclick=\"convertToInteractive('df-990b52b2-e186-4b1c-a9c2-bbfcf6695267')\"\n",
              "            title=\"Convert this dataframe to an interactive table.\"\n",
              "            style=\"display:none;\">\n",
              "\n",
              "  <svg xmlns=\"http://www.w3.org/2000/svg\" height=\"24px\" viewBox=\"0 -960 960 960\">\n",
              "    <path d=\"M120-120v-720h720v720H120Zm60-500h600v-160H180v160Zm220 220h160v-160H400v160Zm0 220h160v-160H400v160ZM180-400h160v-160H180v160Zm440 0h160v-160H620v160ZM180-180h160v-160H180v160Zm440 0h160v-160H620v160Z\"/>\n",
              "  </svg>\n",
              "    </button>\n",
              "\n",
              "  <style>\n",
              "    .colab-df-container {\n",
              "      display:flex;\n",
              "      gap: 12px;\n",
              "    }\n",
              "\n",
              "    .colab-df-convert {\n",
              "      background-color: #E8F0FE;\n",
              "      border: none;\n",
              "      border-radius: 50%;\n",
              "      cursor: pointer;\n",
              "      display: none;\n",
              "      fill: #1967D2;\n",
              "      height: 32px;\n",
              "      padding: 0 0 0 0;\n",
              "      width: 32px;\n",
              "    }\n",
              "\n",
              "    .colab-df-convert:hover {\n",
              "      background-color: #E2EBFA;\n",
              "      box-shadow: 0px 1px 2px rgba(60, 64, 67, 0.3), 0px 1px 3px 1px rgba(60, 64, 67, 0.15);\n",
              "      fill: #174EA6;\n",
              "    }\n",
              "\n",
              "    .colab-df-buttons div {\n",
              "      margin-bottom: 4px;\n",
              "    }\n",
              "\n",
              "    [theme=dark] .colab-df-convert {\n",
              "      background-color: #3B4455;\n",
              "      fill: #D2E3FC;\n",
              "    }\n",
              "\n",
              "    [theme=dark] .colab-df-convert:hover {\n",
              "      background-color: #434B5C;\n",
              "      box-shadow: 0px 1px 3px 1px rgba(0, 0, 0, 0.15);\n",
              "      filter: drop-shadow(0px 1px 2px rgba(0, 0, 0, 0.3));\n",
              "      fill: #FFFFFF;\n",
              "    }\n",
              "  </style>\n",
              "\n",
              "    <script>\n",
              "      const buttonEl =\n",
              "        document.querySelector('#df-990b52b2-e186-4b1c-a9c2-bbfcf6695267 button.colab-df-convert');\n",
              "      buttonEl.style.display =\n",
              "        google.colab.kernel.accessAllowed ? 'block' : 'none';\n",
              "\n",
              "      async function convertToInteractive(key) {\n",
              "        const element = document.querySelector('#df-990b52b2-e186-4b1c-a9c2-bbfcf6695267');\n",
              "        const dataTable =\n",
              "          await google.colab.kernel.invokeFunction('convertToInteractive',\n",
              "                                                    [key], {});\n",
              "        if (!dataTable) return;\n",
              "\n",
              "        const docLinkHtml = 'Like what you see? Visit the ' +\n",
              "          '<a target=\"_blank\" href=https://colab.research.google.com/notebooks/data_table.ipynb>data table notebook</a>'\n",
              "          + ' to learn more about interactive tables.';\n",
              "        element.innerHTML = '';\n",
              "        dataTable['output_type'] = 'display_data';\n",
              "        await google.colab.output.renderOutput(dataTable, element);\n",
              "        const docLink = document.createElement('div');\n",
              "        docLink.innerHTML = docLinkHtml;\n",
              "        element.appendChild(docLink);\n",
              "      }\n",
              "    </script>\n",
              "  </div>\n",
              "\n",
              "\n",
              "    <div id=\"df-1fb14e40-0c42-4e6c-bc77-ad877f4b773c\">\n",
              "      <button class=\"colab-df-quickchart\" onclick=\"quickchart('df-1fb14e40-0c42-4e6c-bc77-ad877f4b773c')\"\n",
              "                title=\"Suggest charts\"\n",
              "                style=\"display:none;\">\n",
              "\n",
              "<svg xmlns=\"http://www.w3.org/2000/svg\" height=\"24px\"viewBox=\"0 0 24 24\"\n",
              "     width=\"24px\">\n",
              "    <g>\n",
              "        <path d=\"M19 3H5c-1.1 0-2 .9-2 2v14c0 1.1.9 2 2 2h14c1.1 0 2-.9 2-2V5c0-1.1-.9-2-2-2zM9 17H7v-7h2v7zm4 0h-2V7h2v10zm4 0h-2v-4h2v4z\"/>\n",
              "    </g>\n",
              "</svg>\n",
              "      </button>\n",
              "\n",
              "<style>\n",
              "  .colab-df-quickchart {\n",
              "      --bg-color: #E8F0FE;\n",
              "      --fill-color: #1967D2;\n",
              "      --hover-bg-color: #E2EBFA;\n",
              "      --hover-fill-color: #174EA6;\n",
              "      --disabled-fill-color: #AAA;\n",
              "      --disabled-bg-color: #DDD;\n",
              "  }\n",
              "\n",
              "  [theme=dark] .colab-df-quickchart {\n",
              "      --bg-color: #3B4455;\n",
              "      --fill-color: #D2E3FC;\n",
              "      --hover-bg-color: #434B5C;\n",
              "      --hover-fill-color: #FFFFFF;\n",
              "      --disabled-bg-color: #3B4455;\n",
              "      --disabled-fill-color: #666;\n",
              "  }\n",
              "\n",
              "  .colab-df-quickchart {\n",
              "    background-color: var(--bg-color);\n",
              "    border: none;\n",
              "    border-radius: 50%;\n",
              "    cursor: pointer;\n",
              "    display: none;\n",
              "    fill: var(--fill-color);\n",
              "    height: 32px;\n",
              "    padding: 0;\n",
              "    width: 32px;\n",
              "  }\n",
              "\n",
              "  .colab-df-quickchart:hover {\n",
              "    background-color: var(--hover-bg-color);\n",
              "    box-shadow: 0 1px 2px rgba(60, 64, 67, 0.3), 0 1px 3px 1px rgba(60, 64, 67, 0.15);\n",
              "    fill: var(--button-hover-fill-color);\n",
              "  }\n",
              "\n",
              "  .colab-df-quickchart-complete:disabled,\n",
              "  .colab-df-quickchart-complete:disabled:hover {\n",
              "    background-color: var(--disabled-bg-color);\n",
              "    fill: var(--disabled-fill-color);\n",
              "    box-shadow: none;\n",
              "  }\n",
              "\n",
              "  .colab-df-spinner {\n",
              "    border: 2px solid var(--fill-color);\n",
              "    border-color: transparent;\n",
              "    border-bottom-color: var(--fill-color);\n",
              "    animation:\n",
              "      spin 1s steps(1) infinite;\n",
              "  }\n",
              "\n",
              "  @keyframes spin {\n",
              "    0% {\n",
              "      border-color: transparent;\n",
              "      border-bottom-color: var(--fill-color);\n",
              "      border-left-color: var(--fill-color);\n",
              "    }\n",
              "    20% {\n",
              "      border-color: transparent;\n",
              "      border-left-color: var(--fill-color);\n",
              "      border-top-color: var(--fill-color);\n",
              "    }\n",
              "    30% {\n",
              "      border-color: transparent;\n",
              "      border-left-color: var(--fill-color);\n",
              "      border-top-color: var(--fill-color);\n",
              "      border-right-color: var(--fill-color);\n",
              "    }\n",
              "    40% {\n",
              "      border-color: transparent;\n",
              "      border-right-color: var(--fill-color);\n",
              "      border-top-color: var(--fill-color);\n",
              "    }\n",
              "    60% {\n",
              "      border-color: transparent;\n",
              "      border-right-color: var(--fill-color);\n",
              "    }\n",
              "    80% {\n",
              "      border-color: transparent;\n",
              "      border-right-color: var(--fill-color);\n",
              "      border-bottom-color: var(--fill-color);\n",
              "    }\n",
              "    90% {\n",
              "      border-color: transparent;\n",
              "      border-bottom-color: var(--fill-color);\n",
              "    }\n",
              "  }\n",
              "</style>\n",
              "\n",
              "      <script>\n",
              "        async function quickchart(key) {\n",
              "          const quickchartButtonEl =\n",
              "            document.querySelector('#' + key + ' button');\n",
              "          quickchartButtonEl.disabled = true;  // To prevent multiple clicks.\n",
              "          quickchartButtonEl.classList.add('colab-df-spinner');\n",
              "          try {\n",
              "            const charts = await google.colab.kernel.invokeFunction(\n",
              "                'suggestCharts', [key], {});\n",
              "          } catch (error) {\n",
              "            console.error('Error during call to suggestCharts:', error);\n",
              "          }\n",
              "          quickchartButtonEl.classList.remove('colab-df-spinner');\n",
              "          quickchartButtonEl.classList.add('colab-df-quickchart-complete');\n",
              "        }\n",
              "        (() => {\n",
              "          let quickchartButtonEl =\n",
              "            document.querySelector('#df-1fb14e40-0c42-4e6c-bc77-ad877f4b773c button');\n",
              "          quickchartButtonEl.style.display =\n",
              "            google.colab.kernel.accessAllowed ? 'block' : 'none';\n",
              "        })();\n",
              "      </script>\n",
              "    </div>\n",
              "\n",
              "    </div>\n",
              "  </div>\n"
            ],
            "application/vnd.google.colaboratory.intrinsic+json": {
              "type": "dataframe",
              "variable_name": "expression"
            }
          },
          "metadata": {},
          "execution_count": 6
        }
      ],
      "source": [
        "# Load expression matrix (genes × cells)\n",
        "expression = pd.read_csv(\"data/Cord_blood_CITE_seq_downsampled_expression.txt\", sep=\"\\t\", index_col=0)\n",
        "print(\"Expression shape:\", expression.shape)\n",
        "expression.head()"
      ]
    },
    {
      "cell_type": "code",
      "execution_count": 7,
      "id": "b466ff44-d3bb-44d6-9d4a-7421a5152bc2",
      "metadata": {
        "id": "b466ff44-d3bb-44d6-9d4a-7421a5152bc2",
        "outputId": "1f6abf75-adfa-4ef6-e2a2-3c276e08c6ac",
        "colab": {
          "base_uri": "https://localhost:8080/",
          "height": 224
        }
      },
      "outputs": [
        {
          "output_type": "stream",
          "name": "stdout",
          "text": [
            "Annotation shape: (2308, 1)\n"
          ]
        },
        {
          "output_type": "execute_result",
          "data": {
            "text/plain": [
              "                 phenotype\n",
              "TTTATGCGTCCGTTAA    B cell\n",
              "GCATGATCACAACGTT    B cell\n",
              "GGTATTGTCCAGTATG    B cell\n",
              "CGCTTCACAGTGGAGT    B cell\n",
              "TCCCGATTCCTCATTA    B cell"
            ],
            "text/html": [
              "\n",
              "  <div id=\"df-c29c5d8c-7738-4225-a911-202f3e4bfa96\" class=\"colab-df-container\">\n",
              "    <div>\n",
              "<style scoped>\n",
              "    .dataframe tbody tr th:only-of-type {\n",
              "        vertical-align: middle;\n",
              "    }\n",
              "\n",
              "    .dataframe tbody tr th {\n",
              "        vertical-align: top;\n",
              "    }\n",
              "\n",
              "    .dataframe thead th {\n",
              "        text-align: right;\n",
              "    }\n",
              "</style>\n",
              "<table border=\"1\" class=\"dataframe\">\n",
              "  <thead>\n",
              "    <tr style=\"text-align: right;\">\n",
              "      <th></th>\n",
              "      <th>phenotype</th>\n",
              "    </tr>\n",
              "  </thead>\n",
              "  <tbody>\n",
              "    <tr>\n",
              "      <th>TTTATGCGTCCGTTAA</th>\n",
              "      <td>B cell</td>\n",
              "    </tr>\n",
              "    <tr>\n",
              "      <th>GCATGATCACAACGTT</th>\n",
              "      <td>B cell</td>\n",
              "    </tr>\n",
              "    <tr>\n",
              "      <th>GGTATTGTCCAGTATG</th>\n",
              "      <td>B cell</td>\n",
              "    </tr>\n",
              "    <tr>\n",
              "      <th>CGCTTCACAGTGGAGT</th>\n",
              "      <td>B cell</td>\n",
              "    </tr>\n",
              "    <tr>\n",
              "      <th>TCCCGATTCCTCATTA</th>\n",
              "      <td>B cell</td>\n",
              "    </tr>\n",
              "  </tbody>\n",
              "</table>\n",
              "</div>\n",
              "    <div class=\"colab-df-buttons\">\n",
              "\n",
              "  <div class=\"colab-df-container\">\n",
              "    <button class=\"colab-df-convert\" onclick=\"convertToInteractive('df-c29c5d8c-7738-4225-a911-202f3e4bfa96')\"\n",
              "            title=\"Convert this dataframe to an interactive table.\"\n",
              "            style=\"display:none;\">\n",
              "\n",
              "  <svg xmlns=\"http://www.w3.org/2000/svg\" height=\"24px\" viewBox=\"0 -960 960 960\">\n",
              "    <path d=\"M120-120v-720h720v720H120Zm60-500h600v-160H180v160Zm220 220h160v-160H400v160Zm0 220h160v-160H400v160ZM180-400h160v-160H180v160Zm440 0h160v-160H620v160ZM180-180h160v-160H180v160Zm440 0h160v-160H620v160Z\"/>\n",
              "  </svg>\n",
              "    </button>\n",
              "\n",
              "  <style>\n",
              "    .colab-df-container {\n",
              "      display:flex;\n",
              "      gap: 12px;\n",
              "    }\n",
              "\n",
              "    .colab-df-convert {\n",
              "      background-color: #E8F0FE;\n",
              "      border: none;\n",
              "      border-radius: 50%;\n",
              "      cursor: pointer;\n",
              "      display: none;\n",
              "      fill: #1967D2;\n",
              "      height: 32px;\n",
              "      padding: 0 0 0 0;\n",
              "      width: 32px;\n",
              "    }\n",
              "\n",
              "    .colab-df-convert:hover {\n",
              "      background-color: #E2EBFA;\n",
              "      box-shadow: 0px 1px 2px rgba(60, 64, 67, 0.3), 0px 1px 3px 1px rgba(60, 64, 67, 0.15);\n",
              "      fill: #174EA6;\n",
              "    }\n",
              "\n",
              "    .colab-df-buttons div {\n",
              "      margin-bottom: 4px;\n",
              "    }\n",
              "\n",
              "    [theme=dark] .colab-df-convert {\n",
              "      background-color: #3B4455;\n",
              "      fill: #D2E3FC;\n",
              "    }\n",
              "\n",
              "    [theme=dark] .colab-df-convert:hover {\n",
              "      background-color: #434B5C;\n",
              "      box-shadow: 0px 1px 3px 1px rgba(0, 0, 0, 0.15);\n",
              "      filter: drop-shadow(0px 1px 2px rgba(0, 0, 0, 0.3));\n",
              "      fill: #FFFFFF;\n",
              "    }\n",
              "  </style>\n",
              "\n",
              "    <script>\n",
              "      const buttonEl =\n",
              "        document.querySelector('#df-c29c5d8c-7738-4225-a911-202f3e4bfa96 button.colab-df-convert');\n",
              "      buttonEl.style.display =\n",
              "        google.colab.kernel.accessAllowed ? 'block' : 'none';\n",
              "\n",
              "      async function convertToInteractive(key) {\n",
              "        const element = document.querySelector('#df-c29c5d8c-7738-4225-a911-202f3e4bfa96');\n",
              "        const dataTable =\n",
              "          await google.colab.kernel.invokeFunction('convertToInteractive',\n",
              "                                                    [key], {});\n",
              "        if (!dataTable) return;\n",
              "\n",
              "        const docLinkHtml = 'Like what you see? Visit the ' +\n",
              "          '<a target=\"_blank\" href=https://colab.research.google.com/notebooks/data_table.ipynb>data table notebook</a>'\n",
              "          + ' to learn more about interactive tables.';\n",
              "        element.innerHTML = '';\n",
              "        dataTable['output_type'] = 'display_data';\n",
              "        await google.colab.output.renderOutput(dataTable, element);\n",
              "        const docLink = document.createElement('div');\n",
              "        docLink.innerHTML = docLinkHtml;\n",
              "        element.appendChild(docLink);\n",
              "      }\n",
              "    </script>\n",
              "  </div>\n",
              "\n",
              "\n",
              "    <div id=\"df-05e6287a-806f-43ce-9eb4-bacbcf263512\">\n",
              "      <button class=\"colab-df-quickchart\" onclick=\"quickchart('df-05e6287a-806f-43ce-9eb4-bacbcf263512')\"\n",
              "                title=\"Suggest charts\"\n",
              "                style=\"display:none;\">\n",
              "\n",
              "<svg xmlns=\"http://www.w3.org/2000/svg\" height=\"24px\"viewBox=\"0 0 24 24\"\n",
              "     width=\"24px\">\n",
              "    <g>\n",
              "        <path d=\"M19 3H5c-1.1 0-2 .9-2 2v14c0 1.1.9 2 2 2h14c1.1 0 2-.9 2-2V5c0-1.1-.9-2-2-2zM9 17H7v-7h2v7zm4 0h-2V7h2v10zm4 0h-2v-4h2v4z\"/>\n",
              "    </g>\n",
              "</svg>\n",
              "      </button>\n",
              "\n",
              "<style>\n",
              "  .colab-df-quickchart {\n",
              "      --bg-color: #E8F0FE;\n",
              "      --fill-color: #1967D2;\n",
              "      --hover-bg-color: #E2EBFA;\n",
              "      --hover-fill-color: #174EA6;\n",
              "      --disabled-fill-color: #AAA;\n",
              "      --disabled-bg-color: #DDD;\n",
              "  }\n",
              "\n",
              "  [theme=dark] .colab-df-quickchart {\n",
              "      --bg-color: #3B4455;\n",
              "      --fill-color: #D2E3FC;\n",
              "      --hover-bg-color: #434B5C;\n",
              "      --hover-fill-color: #FFFFFF;\n",
              "      --disabled-bg-color: #3B4455;\n",
              "      --disabled-fill-color: #666;\n",
              "  }\n",
              "\n",
              "  .colab-df-quickchart {\n",
              "    background-color: var(--bg-color);\n",
              "    border: none;\n",
              "    border-radius: 50%;\n",
              "    cursor: pointer;\n",
              "    display: none;\n",
              "    fill: var(--fill-color);\n",
              "    height: 32px;\n",
              "    padding: 0;\n",
              "    width: 32px;\n",
              "  }\n",
              "\n",
              "  .colab-df-quickchart:hover {\n",
              "    background-color: var(--hover-bg-color);\n",
              "    box-shadow: 0 1px 2px rgba(60, 64, 67, 0.3), 0 1px 3px 1px rgba(60, 64, 67, 0.15);\n",
              "    fill: var(--button-hover-fill-color);\n",
              "  }\n",
              "\n",
              "  .colab-df-quickchart-complete:disabled,\n",
              "  .colab-df-quickchart-complete:disabled:hover {\n",
              "    background-color: var(--disabled-bg-color);\n",
              "    fill: var(--disabled-fill-color);\n",
              "    box-shadow: none;\n",
              "  }\n",
              "\n",
              "  .colab-df-spinner {\n",
              "    border: 2px solid var(--fill-color);\n",
              "    border-color: transparent;\n",
              "    border-bottom-color: var(--fill-color);\n",
              "    animation:\n",
              "      spin 1s steps(1) infinite;\n",
              "  }\n",
              "\n",
              "  @keyframes spin {\n",
              "    0% {\n",
              "      border-color: transparent;\n",
              "      border-bottom-color: var(--fill-color);\n",
              "      border-left-color: var(--fill-color);\n",
              "    }\n",
              "    20% {\n",
              "      border-color: transparent;\n",
              "      border-left-color: var(--fill-color);\n",
              "      border-top-color: var(--fill-color);\n",
              "    }\n",
              "    30% {\n",
              "      border-color: transparent;\n",
              "      border-left-color: var(--fill-color);\n",
              "      border-top-color: var(--fill-color);\n",
              "      border-right-color: var(--fill-color);\n",
              "    }\n",
              "    40% {\n",
              "      border-color: transparent;\n",
              "      border-right-color: var(--fill-color);\n",
              "      border-top-color: var(--fill-color);\n",
              "    }\n",
              "    60% {\n",
              "      border-color: transparent;\n",
              "      border-right-color: var(--fill-color);\n",
              "    }\n",
              "    80% {\n",
              "      border-color: transparent;\n",
              "      border-right-color: var(--fill-color);\n",
              "      border-bottom-color: var(--fill-color);\n",
              "    }\n",
              "    90% {\n",
              "      border-color: transparent;\n",
              "      border-bottom-color: var(--fill-color);\n",
              "    }\n",
              "  }\n",
              "</style>\n",
              "\n",
              "      <script>\n",
              "        async function quickchart(key) {\n",
              "          const quickchartButtonEl =\n",
              "            document.querySelector('#' + key + ' button');\n",
              "          quickchartButtonEl.disabled = true;  // To prevent multiple clicks.\n",
              "          quickchartButtonEl.classList.add('colab-df-spinner');\n",
              "          try {\n",
              "            const charts = await google.colab.kernel.invokeFunction(\n",
              "                'suggestCharts', [key], {});\n",
              "          } catch (error) {\n",
              "            console.error('Error during call to suggestCharts:', error);\n",
              "          }\n",
              "          quickchartButtonEl.classList.remove('colab-df-spinner');\n",
              "          quickchartButtonEl.classList.add('colab-df-quickchart-complete');\n",
              "        }\n",
              "        (() => {\n",
              "          let quickchartButtonEl =\n",
              "            document.querySelector('#df-05e6287a-806f-43ce-9eb4-bacbcf263512 button');\n",
              "          quickchartButtonEl.style.display =\n",
              "            google.colab.kernel.accessAllowed ? 'block' : 'none';\n",
              "        })();\n",
              "      </script>\n",
              "    </div>\n",
              "\n",
              "    </div>\n",
              "  </div>\n"
            ],
            "application/vnd.google.colaboratory.intrinsic+json": {
              "type": "dataframe",
              "variable_name": "annotation",
              "summary": "{\n  \"name\": \"annotation\",\n  \"rows\": 2308,\n  \"fields\": [\n    {\n      \"column\": \"phenotype\",\n      \"properties\": {\n        \"dtype\": \"category\",\n        \"num_unique_values\": 8,\n        \"samples\": [\n          \"Dendritic cell\",\n          \"Monocyte\",\n          \"B cell\"\n        ],\n        \"semantic_type\": \"\",\n        \"description\": \"\"\n      }\n    }\n  ]\n}"
            }
          },
          "metadata": {},
          "execution_count": 7
        }
      ],
      "source": [
        "# Load annotation matrix (cells x phenotype)\n",
        "annotation = pd.read_csv(\"data/Cord_blood_CITE_seq_downsampled_annotation.txt\", sep=\"\\t\", index_col=0)\n",
        "print(\"Annotation shape:\", annotation.shape)\n",
        "annotation.head()"
      ]
    },
    {
      "cell_type": "code",
      "execution_count": null,
      "id": "fecc9bc7-0426-432f-b7dc-9fce1f7b27f7",
      "metadata": {
        "id": "fecc9bc7-0426-432f-b7dc-9fce1f7b27f7",
        "outputId": "7b44b777-3ab6-4a80-cb81-2bff6c6b0151",
        "colab": {
          "base_uri": "https://localhost:8080/"
        }
      },
      "outputs": [
        {
          "output_type": "stream",
          "name": "stdout",
          "text": [
            "cytotrace2: Input parameters\n",
            "    Input file: data/Cord_blood_CITE_seq_downsampled_expression.txt\n",
            "    Species: human\n",
            "    Parallelization enabled: True\n",
            "    Batch size: 20000\n",
            "    Smoothing batch size: 1000\n",
            "    Seed: 14\n",
            "    Output directory: cytotrace2_results\n",
            "    Plotting enabled: True\n",
            "    Verbose mode enabled: True\n",
            "    User-provided limit for number of cores to use: None\n",
            "       ...2 cores detected. CytoTRACE 2 will run using up to 1/2 cores.\n",
            "cytotrace2: Loading dataset\n",
            "cytotrace2: Dataset characteristics\n",
            "    Number of input genes:  20401\n",
            "    Number of input cells:  2308\n",
            "cytotrace2: Checking models...\n",
            "Downloading model1.pt from Google Drive...\n"
          ]
        },
        {
          "output_type": "stream",
          "name": "stderr",
          "text": [
            "Downloading...\n",
            "From: https://drive.google.com/uc?export=download&id=1nyZeMTn3oSCO0bKrR0Pynu7cr6xfs3yY\n",
            "To: /usr/local/lib/python3.11/dist-packages/cytotrace2_py/resources/models/model1.pt\n",
            "100%|██████████| 8.24M/8.24M [00:00<00:00, 178MB/s]\n"
          ]
        },
        {
          "output_type": "stream",
          "name": "stdout",
          "text": [
            "Downloading model2.pt from Google Drive...\n"
          ]
        },
        {
          "output_type": "stream",
          "name": "stderr",
          "text": [
            "Downloading...\n",
            "From: https://drive.google.com/uc?export=download&id=1x7JYdmiyKG7y_7U37prGTTqtkKGqyZND\n",
            "To: /usr/local/lib/python3.11/dist-packages/cytotrace2_py/resources/models/model2.pt\n",
            "100%|██████████| 8.24M/8.24M [00:00<00:00, 272MB/s]\n"
          ]
        },
        {
          "output_type": "stream",
          "name": "stdout",
          "text": [
            "Downloading model3.pt from Google Drive...\n"
          ]
        },
        {
          "output_type": "stream",
          "name": "stderr",
          "text": [
            "Downloading...\n",
            "From: https://drive.google.com/uc?export=download&id=1vOjvGWa2Vb8QEfKkKYMTaNiS3e0UjjMo\n",
            "To: /usr/local/lib/python3.11/dist-packages/cytotrace2_py/resources/models/model3.pt\n",
            "100%|██████████| 8.24M/8.24M [00:00<00:00, 248MB/s]\n"
          ]
        },
        {
          "output_type": "stream",
          "name": "stdout",
          "text": [
            "Downloading model4.pt from Google Drive...\n"
          ]
        },
        {
          "output_type": "stream",
          "name": "stderr",
          "text": [
            "Downloading...\n",
            "From: https://drive.google.com/uc?export=download&id=1IqMXiKf3Td_h251JO3mhj9pu4FhnH4Le\n",
            "To: /usr/local/lib/python3.11/dist-packages/cytotrace2_py/resources/models/model4.pt\n",
            "100%|██████████| 8.24M/8.24M [00:00<00:00, 212MB/s]\n"
          ]
        },
        {
          "output_type": "stream",
          "name": "stdout",
          "text": [
            "Downloading model5.pt from Google Drive...\n"
          ]
        },
        {
          "output_type": "stream",
          "name": "stderr",
          "text": [
            "Downloading...\n",
            "From: https://drive.google.com/uc?export=download&id=1AMIjVnZ4m7cdGv5VJiSwISF2J5hLwWP2\n",
            "To: /usr/local/lib/python3.11/dist-packages/cytotrace2_py/resources/models/model5.pt\n",
            "100%|██████████| 8.24M/8.24M [00:00<00:00, 316MB/s]\n"
          ]
        },
        {
          "output_type": "stream",
          "name": "stdout",
          "text": [
            "Downloading model6.pt from Google Drive...\n"
          ]
        },
        {
          "output_type": "stream",
          "name": "stderr",
          "text": [
            "Downloading...\n",
            "From: https://drive.google.com/uc?export=download&id=1FWy81_asx_KM2VokIncF9pZ3RYcNdjvb\n",
            "To: /usr/local/lib/python3.11/dist-packages/cytotrace2_py/resources/models/model6.pt\n",
            "100%|██████████| 8.24M/8.24M [00:00<00:00, 191MB/s]\n"
          ]
        },
        {
          "output_type": "stream",
          "name": "stdout",
          "text": [
            "Downloading model7.pt from Google Drive...\n"
          ]
        },
        {
          "output_type": "stream",
          "name": "stderr",
          "text": [
            "Downloading...\n",
            "From: https://drive.google.com/uc?export=download&id=1oF7LAlIwPGZEUX-AXwI7gCg3XybXi8Rb\n",
            "To: /usr/local/lib/python3.11/dist-packages/cytotrace2_py/resources/models/model7.pt\n",
            "100%|██████████| 8.24M/8.24M [00:00<00:00, 158MB/s]\n"
          ]
        },
        {
          "output_type": "stream",
          "name": "stdout",
          "text": [
            "Downloading model8.pt from Google Drive...\n"
          ]
        },
        {
          "output_type": "stream",
          "name": "stderr",
          "text": [
            "Downloading...\n",
            "From: https://drive.google.com/uc?export=download&id=19LTGwF0oyyGQ-oJ4-5X7iSW4By8sxvTb\n",
            "To: /usr/local/lib/python3.11/dist-packages/cytotrace2_py/resources/models/model8.pt\n",
            "100%|██████████| 8.24M/8.24M [00:00<00:00, 153MB/s]\n"
          ]
        },
        {
          "output_type": "stream",
          "name": "stdout",
          "text": [
            "Downloading model9.pt from Google Drive...\n"
          ]
        },
        {
          "output_type": "stream",
          "name": "stderr",
          "text": [
            "Downloading...\n",
            "From: https://drive.google.com/uc?export=download&id=1UXTXvH996VUJXzJyjVmd9FpKYLdoWOb4\n",
            "To: /usr/local/lib/python3.11/dist-packages/cytotrace2_py/resources/models/model9.pt\n",
            "100%|██████████| 8.24M/8.24M [00:00<00:00, 162MB/s]\n"
          ]
        },
        {
          "output_type": "stream",
          "name": "stdout",
          "text": [
            "Downloading model10.pt from Google Drive...\n"
          ]
        },
        {
          "output_type": "stream",
          "name": "stderr",
          "text": [
            "Downloading...\n",
            "From: https://drive.google.com/uc?export=download&id=1bVcokMtrRfQF8YMHQvRLxTZ0IOBtiO4O\n",
            "To: /usr/local/lib/python3.11/dist-packages/cytotrace2_py/resources/models/model10.pt\n",
            "100%|██████████| 8.24M/8.24M [00:00<00:00, 216MB/s]\n"
          ]
        },
        {
          "output_type": "stream",
          "name": "stdout",
          "text": [
            "Downloading model11.pt from Google Drive...\n"
          ]
        },
        {
          "output_type": "stream",
          "name": "stderr",
          "text": [
            "Downloading...\n",
            "From: https://drive.google.com/uc?export=download&id=1EUBCAWNXTayD1tLjVpGnD32-rVOUZ-es\n",
            "To: /usr/local/lib/python3.11/dist-packages/cytotrace2_py/resources/models/model11.pt\n",
            "100%|██████████| 8.24M/8.24M [00:00<00:00, 193MB/s]\n"
          ]
        },
        {
          "output_type": "stream",
          "name": "stdout",
          "text": [
            "Downloading model12.pt from Google Drive...\n"
          ]
        },
        {
          "output_type": "stream",
          "name": "stderr",
          "text": [
            "Downloading...\n",
            "From: https://drive.google.com/uc?export=download&id=1d-MXKxZy8qH9FVHZJ3piaDjwzBtEIntm\n",
            "To: /usr/local/lib/python3.11/dist-packages/cytotrace2_py/resources/models/model12.pt\n",
            "100%|██████████| 8.24M/8.24M [00:00<00:00, 190MB/s]\n"
          ]
        },
        {
          "output_type": "stream",
          "name": "stdout",
          "text": [
            "Downloading model13.pt from Google Drive...\n"
          ]
        },
        {
          "output_type": "stream",
          "name": "stderr",
          "text": [
            "Downloading...\n",
            "From: https://drive.google.com/uc?export=download&id=1yaezqWaMCVN7WOd5KCLz3DbKIevi5imL\n",
            "To: /usr/local/lib/python3.11/dist-packages/cytotrace2_py/resources/models/model13.pt\n",
            "100%|██████████| 8.24M/8.24M [00:00<00:00, 61.4MB/s]\n"
          ]
        },
        {
          "output_type": "stream",
          "name": "stdout",
          "text": [
            "Downloading model14.pt from Google Drive...\n"
          ]
        },
        {
          "output_type": "stream",
          "name": "stderr",
          "text": [
            "Downloading...\n",
            "From: https://drive.google.com/uc?export=download&id=1nNLwCvGrsJ0iYflaysh6YWIKanPaxG-r\n",
            "To: /usr/local/lib/python3.11/dist-packages/cytotrace2_py/resources/models/model14.pt\n",
            "100%|██████████| 8.24M/8.24M [00:00<00:00, 273MB/s]\n"
          ]
        },
        {
          "output_type": "stream",
          "name": "stdout",
          "text": [
            "Downloading model15.pt from Google Drive...\n"
          ]
        },
        {
          "output_type": "stream",
          "name": "stderr",
          "text": [
            "Downloading...\n",
            "From: https://drive.google.com/uc?export=download&id=1dGSjNn3-YAA390Z-wCP5pCWBRo1aOs50\n",
            "To: /usr/local/lib/python3.11/dist-packages/cytotrace2_py/resources/models/model15.pt\n",
            "100%|██████████| 8.24M/8.24M [00:00<00:00, 243MB/s]\n"
          ]
        },
        {
          "output_type": "stream",
          "name": "stdout",
          "text": [
            "Downloading model16.pt from Google Drive...\n"
          ]
        },
        {
          "output_type": "stream",
          "name": "stderr",
          "text": [
            "Downloading...\n",
            "From: https://drive.google.com/uc?export=download&id=1QovpMD_tdGOszSDx8qEFrNLpq4PFnQtp\n",
            "To: /usr/local/lib/python3.11/dist-packages/cytotrace2_py/resources/models/model16.pt\n",
            "100%|██████████| 8.24M/8.24M [00:00<00:00, 238MB/s]\n"
          ]
        },
        {
          "output_type": "stream",
          "name": "stdout",
          "text": [
            "Downloading model17.pt from Google Drive...\n"
          ]
        },
        {
          "output_type": "stream",
          "name": "stderr",
          "text": [
            "Downloading...\n",
            "From: https://drive.google.com/uc?export=download&id=1ZMgukaZNzVAkyQCvYvAQJ53qk2RwsW-i\n",
            "To: /usr/local/lib/python3.11/dist-packages/cytotrace2_py/resources/models/model17.pt\n",
            "100%|██████████| 8.24M/8.24M [00:00<00:00, 130MB/s]\n"
          ]
        },
        {
          "output_type": "stream",
          "name": "stdout",
          "text": [
            "Downloading model18.pt from Google Drive...\n"
          ]
        },
        {
          "output_type": "stream",
          "name": "stderr",
          "text": [
            "Downloading...\n",
            "From: https://drive.google.com/uc?export=download&id=1yUC9ndmr6t3nLzIVc8LRIxT4qV-kVrVg\n",
            "To: /usr/local/lib/python3.11/dist-packages/cytotrace2_py/resources/models/model18.pt\n",
            "100%|██████████| 8.24M/8.24M [00:00<00:00, 111MB/s]\n"
          ]
        },
        {
          "output_type": "stream",
          "name": "stdout",
          "text": [
            "Downloading model19.pt from Google Drive...\n"
          ]
        }
      ],
      "source": [
        "results = cytotrace2(\"data/Cord_blood_CITE_seq_downsampled_expression.txt\", annotation_path=\"data/Cord_blood_CITE_seq_downsampled_annotation.txt\", species=\"human\")"
      ]
    }
  ],
  "metadata": {
    "kernelspec": {
      "display_name": "cytotrace2",
      "language": "python",
      "name": "cytotrace2"
    },
    "language_info": {
      "codemirror_mode": {
        "name": "ipython",
        "version": 3
      },
      "file_extension": ".py",
      "mimetype": "text/x-python",
      "name": "python",
      "nbconvert_exporter": "python",
      "pygments_lexer": "ipython3",
      "version": "3.12.0"
    },
    "colab": {
      "provenance": [],
      "gpuType": "T4"
    },
    "accelerator": "GPU"
  },
  "nbformat": 4,
  "nbformat_minor": 5
}