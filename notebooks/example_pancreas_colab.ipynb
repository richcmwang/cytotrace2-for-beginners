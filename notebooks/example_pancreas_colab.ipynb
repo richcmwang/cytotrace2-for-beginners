{
  "cells": [
    {
      "cell_type": "markdown",
      "id": "95d4a714-51de-4e09-9403-1426a8694e71",
      "metadata": {
        "id": "95d4a714-51de-4e09-9403-1426a8694e71"
      },
      "source": [
        "# Install required packages"
      ]
    },
    {
      "cell_type": "code",
      "execution_count": 11,
      "id": "4053e722-a900-4183-9094-9cb31a1e0839",
      "metadata": {
        "colab": {
          "base_uri": "https://localhost:8080/",
          "height": 1000
        },
        "id": "4053e722-a900-4183-9094-9cb31a1e0839",
        "outputId": "d1a34854-f708-4648-b4b8-16ce95aada8f"
      },
      "outputs": [
        {
          "output_type": "stream",
          "name": "stdout",
          "text": [
            "Collecting numpy==1.23.5\n",
            "  Using cached numpy-1.23.5-cp311-cp311-manylinux_2_17_x86_64.manylinux2014_x86_64.whl.metadata (2.3 kB)\n",
            "Collecting pandas==1.5.3\n",
            "  Using cached pandas-1.5.3-cp311-cp311-manylinux_2_17_x86_64.manylinux2014_x86_64.whl.metadata (11 kB)\n",
            "Collecting matplotlib==3.7.1\n",
            "  Using cached matplotlib-3.7.1-cp311-cp311-manylinux_2_17_x86_64.manylinux2014_x86_64.whl.metadata (5.6 kB)\n",
            "Collecting seaborn==0.12.2\n",
            "  Using cached seaborn-0.12.2-py3-none-any.whl.metadata (5.4 kB)\n",
            "Collecting scanpy==1.9.3\n",
            "  Using cached scanpy-1.9.3-py3-none-any.whl.metadata (6.1 kB)\n",
            "Collecting anndata==0.9.1\n",
            "  Using cached anndata-0.9.1-py3-none-any.whl.metadata (4.6 kB)\n",
            "Collecting scikit-learn==1.2.2\n",
            "  Downloading scikit_learn-1.2.2-cp311-cp311-manylinux_2_17_x86_64.manylinux2014_x86_64.whl.metadata (11 kB)\n",
            "Collecting scipy==1.10.1\n",
            "  Downloading scipy-1.10.1-cp311-cp311-manylinux_2_17_x86_64.manylinux2014_x86_64.whl.metadata (58 kB)\n",
            "\u001b[2K     \u001b[90m━━━━━━━━━━━━━━━━━━━━━━━━━━━━━━━━━━━━━━━━\u001b[0m \u001b[32m58.9/58.9 kB\u001b[0m \u001b[31m3.3 MB/s\u001b[0m eta \u001b[36m0:00:00\u001b[0m\n",
            "\u001b[?25hCollecting torch==2.0.0\n",
            "  Downloading torch-2.0.0-cp311-cp311-manylinux1_x86_64.whl.metadata (24 kB)\n",
            "Requirement already satisfied: cytotrace2-py in /usr/local/lib/python3.11/dist-packages (1.1.0.3)\n",
            "Requirement already satisfied: python-dateutil>=2.8.1 in /usr/local/lib/python3.11/dist-packages (from pandas==1.5.3) (2.9.0.post0)\n",
            "Requirement already satisfied: pytz>=2020.1 in /usr/local/lib/python3.11/dist-packages (from pandas==1.5.3) (2025.2)\n",
            "Requirement already satisfied: contourpy>=1.0.1 in /usr/local/lib/python3.11/dist-packages (from matplotlib==3.7.1) (1.3.2)\n",
            "Requirement already satisfied: cycler>=0.10 in /usr/local/lib/python3.11/dist-packages (from matplotlib==3.7.1) (0.12.1)\n",
            "Requirement already satisfied: fonttools>=4.22.0 in /usr/local/lib/python3.11/dist-packages (from matplotlib==3.7.1) (4.58.4)\n",
            "Requirement already satisfied: kiwisolver>=1.0.1 in /usr/local/lib/python3.11/dist-packages (from matplotlib==3.7.1) (1.4.8)\n",
            "Requirement already satisfied: packaging>=20.0 in /usr/local/lib/python3.11/dist-packages (from matplotlib==3.7.1) (24.2)\n",
            "Requirement already satisfied: pillow>=6.2.0 in /usr/local/lib/python3.11/dist-packages (from matplotlib==3.7.1) (11.2.1)\n",
            "Requirement already satisfied: pyparsing>=2.3.1 in /usr/local/lib/python3.11/dist-packages (from matplotlib==3.7.1) (3.2.3)\n",
            "Requirement already satisfied: h5py>=3 in /usr/local/lib/python3.11/dist-packages (from scanpy==1.9.3) (3.14.0)\n",
            "Requirement already satisfied: tqdm in /usr/local/lib/python3.11/dist-packages (from scanpy==1.9.3) (4.67.1)\n",
            "Requirement already satisfied: statsmodels>=0.10.0rc2 in /usr/local/lib/python3.11/dist-packages (from scanpy==1.9.3) (0.14.4)\n",
            "Requirement already satisfied: patsy in /usr/local/lib/python3.11/dist-packages (from scanpy==1.9.3) (1.0.1)\n",
            "Requirement already satisfied: networkx>=2.3 in /usr/local/lib/python3.11/dist-packages (from scanpy==1.9.3) (3.5)\n",
            "Requirement already satisfied: natsort in /usr/local/lib/python3.11/dist-packages (from scanpy==1.9.3) (8.4.0)\n",
            "Requirement already satisfied: joblib in /usr/local/lib/python3.11/dist-packages (from scanpy==1.9.3) (1.5.1)\n",
            "Requirement already satisfied: numba>=0.41.0 in /usr/local/lib/python3.11/dist-packages (from scanpy==1.9.3) (0.60.0)\n",
            "Requirement already satisfied: umap-learn>=0.3.10 in /usr/local/lib/python3.11/dist-packages (from scanpy==1.9.3) (0.5.7)\n",
            "Collecting session-info (from scanpy==1.9.3)\n",
            "  Downloading session_info-1.0.1-py3-none-any.whl.metadata (5.1 kB)\n",
            "Requirement already satisfied: threadpoolctl>=2.0.0 in /usr/local/lib/python3.11/dist-packages (from scikit-learn==1.2.2) (3.6.0)\n",
            "Requirement already satisfied: filelock in /usr/local/lib/python3.11/dist-packages (from torch==2.0.0) (3.18.0)\n",
            "Requirement already satisfied: typing-extensions in /usr/local/lib/python3.11/dist-packages (from torch==2.0.0) (4.14.0)\n",
            "Requirement already satisfied: sympy in /usr/local/lib/python3.11/dist-packages (from torch==2.0.0) (1.13.1)\n",
            "Requirement already satisfied: jinja2 in /usr/local/lib/python3.11/dist-packages (from torch==2.0.0) (3.1.6)\n",
            "Collecting nvidia-cuda-nvrtc-cu11==11.7.99 (from torch==2.0.0)\n",
            "  Downloading nvidia_cuda_nvrtc_cu11-11.7.99-2-py3-none-manylinux1_x86_64.whl.metadata (1.5 kB)\n",
            "Collecting nvidia-cuda-runtime-cu11==11.7.99 (from torch==2.0.0)\n",
            "  Downloading nvidia_cuda_runtime_cu11-11.7.99-py3-none-manylinux1_x86_64.whl.metadata (1.6 kB)\n",
            "Collecting nvidia-cuda-cupti-cu11==11.7.101 (from torch==2.0.0)\n",
            "  Downloading nvidia_cuda_cupti_cu11-11.7.101-py3-none-manylinux1_x86_64.whl.metadata (1.6 kB)\n",
            "Collecting nvidia-cudnn-cu11==8.5.0.96 (from torch==2.0.0)\n",
            "  Downloading nvidia_cudnn_cu11-8.5.0.96-2-py3-none-manylinux1_x86_64.whl.metadata (1.6 kB)\n",
            "Collecting nvidia-cublas-cu11==11.10.3.66 (from torch==2.0.0)\n",
            "  Downloading nvidia_cublas_cu11-11.10.3.66-py3-none-manylinux1_x86_64.whl.metadata (1.6 kB)\n",
            "Collecting nvidia-cufft-cu11==10.9.0.58 (from torch==2.0.0)\n",
            "  Downloading nvidia_cufft_cu11-10.9.0.58-py3-none-manylinux2014_x86_64.whl.metadata (1.5 kB)\n",
            "Collecting nvidia-curand-cu11==10.2.10.91 (from torch==2.0.0)\n",
            "  Downloading nvidia_curand_cu11-10.2.10.91-py3-none-manylinux1_x86_64.whl.metadata (1.6 kB)\n",
            "Collecting nvidia-cusolver-cu11==11.4.0.1 (from torch==2.0.0)\n",
            "  Downloading nvidia_cusolver_cu11-11.4.0.1-2-py3-none-manylinux1_x86_64.whl.metadata (1.6 kB)\n",
            "Collecting nvidia-cusparse-cu11==11.7.4.91 (from torch==2.0.0)\n",
            "  Downloading nvidia_cusparse_cu11-11.7.4.91-py3-none-manylinux1_x86_64.whl.metadata (1.6 kB)\n",
            "Collecting nvidia-nccl-cu11==2.14.3 (from torch==2.0.0)\n",
            "  Downloading nvidia_nccl_cu11-2.14.3-py3-none-manylinux1_x86_64.whl.metadata (1.8 kB)\n",
            "Collecting nvidia-nvtx-cu11==11.7.91 (from torch==2.0.0)\n",
            "  Downloading nvidia_nvtx_cu11-11.7.91-py3-none-manylinux1_x86_64.whl.metadata (1.7 kB)\n",
            "Collecting triton==2.0.0 (from torch==2.0.0)\n",
            "  Downloading triton-2.0.0-1-cp311-cp311-manylinux2014_x86_64.manylinux_2_17_x86_64.whl.metadata (1.0 kB)\n",
            "Requirement already satisfied: setuptools in /usr/local/lib/python3.11/dist-packages (from nvidia-cublas-cu11==11.10.3.66->torch==2.0.0) (75.2.0)\n",
            "Requirement already satisfied: wheel in /usr/local/lib/python3.11/dist-packages (from nvidia-cublas-cu11==11.10.3.66->torch==2.0.0) (0.45.1)\n",
            "Requirement already satisfied: cmake in /usr/local/lib/python3.11/dist-packages (from triton==2.0.0->torch==2.0.0) (3.31.6)\n",
            "Collecting lit (from triton==2.0.0->torch==2.0.0)\n",
            "  Downloading lit-18.1.8-py3-none-any.whl.metadata (2.5 kB)\n",
            "Requirement already satisfied: gdown in /usr/local/lib/python3.11/dist-packages (from cytotrace2-py) (5.2.0)\n",
            "Requirement already satisfied: llvmlite<0.44,>=0.43.0dev0 in /usr/local/lib/python3.11/dist-packages (from numba>=0.41.0->scanpy==1.9.3) (0.43.0)\n",
            "Requirement already satisfied: six>=1.5 in /usr/local/lib/python3.11/dist-packages (from python-dateutil>=2.8.1->pandas==1.5.3) (1.17.0)\n",
            "Requirement already satisfied: pynndescent>=0.5 in /usr/local/lib/python3.11/dist-packages (from umap-learn>=0.3.10->scanpy==1.9.3) (0.5.13)\n",
            "Requirement already satisfied: beautifulsoup4 in /usr/local/lib/python3.11/dist-packages (from gdown->cytotrace2-py) (4.13.4)\n",
            "Requirement already satisfied: requests[socks] in /usr/local/lib/python3.11/dist-packages (from gdown->cytotrace2-py) (2.32.3)\n",
            "Requirement already satisfied: MarkupSafe>=2.0 in /usr/local/lib/python3.11/dist-packages (from jinja2->torch==2.0.0) (3.0.2)\n",
            "Collecting stdlib_list (from session-info->scanpy==1.9.3)\n",
            "  Downloading stdlib_list-0.11.1-py3-none-any.whl.metadata (3.3 kB)\n",
            "Requirement already satisfied: mpmath<1.4,>=1.1.0 in /usr/local/lib/python3.11/dist-packages (from sympy->torch==2.0.0) (1.3.0)\n",
            "Requirement already satisfied: soupsieve>1.2 in /usr/local/lib/python3.11/dist-packages (from beautifulsoup4->gdown->cytotrace2-py) (2.7)\n",
            "Requirement already satisfied: charset-normalizer<4,>=2 in /usr/local/lib/python3.11/dist-packages (from requests[socks]->gdown->cytotrace2-py) (3.4.2)\n",
            "Requirement already satisfied: idna<4,>=2.5 in /usr/local/lib/python3.11/dist-packages (from requests[socks]->gdown->cytotrace2-py) (3.10)\n",
            "Requirement already satisfied: urllib3<3,>=1.21.1 in /usr/local/lib/python3.11/dist-packages (from requests[socks]->gdown->cytotrace2-py) (2.4.0)\n",
            "Requirement already satisfied: certifi>=2017.4.17 in /usr/local/lib/python3.11/dist-packages (from requests[socks]->gdown->cytotrace2-py) (2025.6.15)\n",
            "Requirement already satisfied: PySocks!=1.5.7,>=1.5.6 in /usr/local/lib/python3.11/dist-packages (from requests[socks]->gdown->cytotrace2-py) (1.7.1)\n",
            "Downloading numpy-1.23.5-cp311-cp311-manylinux_2_17_x86_64.manylinux2014_x86_64.whl (17.1 MB)\n",
            "\u001b[2K   \u001b[90m━━━━━━━━━━━━━━━━━━━━━━━━━━━━━━━━━━━━━━━━\u001b[0m \u001b[32m17.1/17.1 MB\u001b[0m \u001b[31m91.0 MB/s\u001b[0m eta \u001b[36m0:00:00\u001b[0m\n",
            "\u001b[?25hDownloading pandas-1.5.3-cp311-cp311-manylinux_2_17_x86_64.manylinux2014_x86_64.whl (12.0 MB)\n",
            "\u001b[2K   \u001b[90m━━━━━━━━━━━━━━━━━━━━━━━━━━━━━━━━━━━━━━━━\u001b[0m \u001b[32m12.0/12.0 MB\u001b[0m \u001b[31m102.4 MB/s\u001b[0m eta \u001b[36m0:00:00\u001b[0m\n",
            "\u001b[?25hDownloading matplotlib-3.7.1-cp311-cp311-manylinux_2_17_x86_64.manylinux2014_x86_64.whl (11.6 MB)\n",
            "\u001b[2K   \u001b[90m━━━━━━━━━━━━━━━━━━━━━━━━━━━━━━━━━━━━━━━━\u001b[0m \u001b[32m11.6/11.6 MB\u001b[0m \u001b[31m97.5 MB/s\u001b[0m eta \u001b[36m0:00:00\u001b[0m\n",
            "\u001b[?25hDownloading seaborn-0.12.2-py3-none-any.whl (293 kB)\n",
            "\u001b[2K   \u001b[90m━━━━━━━━━━━━━━━━━━━━━━━━━━━━━━━━━━━━━━━━\u001b[0m \u001b[32m293.3/293.3 kB\u001b[0m \u001b[31m20.5 MB/s\u001b[0m eta \u001b[36m0:00:00\u001b[0m\n",
            "\u001b[?25hDownloading scanpy-1.9.3-py3-none-any.whl (2.0 MB)\n",
            "\u001b[2K   \u001b[90m━━━━━━━━━━━━━━━━━━━━━━━━━━━━━━━━━━━━━━━━\u001b[0m \u001b[32m2.0/2.0 MB\u001b[0m \u001b[31m69.8 MB/s\u001b[0m eta \u001b[36m0:00:00\u001b[0m\n",
            "\u001b[?25hDownloading anndata-0.9.1-py3-none-any.whl (102 kB)\n",
            "\u001b[2K   \u001b[90m━━━━━━━━━━━━━━━━━━━━━━━━━━━━━━━━━━━━━━━━\u001b[0m \u001b[32m103.0/103.0 kB\u001b[0m \u001b[31m8.7 MB/s\u001b[0m eta \u001b[36m0:00:00\u001b[0m\n",
            "\u001b[?25hDownloading scikit_learn-1.2.2-cp311-cp311-manylinux_2_17_x86_64.manylinux2014_x86_64.whl (9.6 MB)\n",
            "\u001b[2K   \u001b[90m━━━━━━━━━━━━━━━━━━━━━━━━━━━━━━━━━━━━━━━━\u001b[0m \u001b[32m9.6/9.6 MB\u001b[0m \u001b[31m91.2 MB/s\u001b[0m eta \u001b[36m0:00:00\u001b[0m\n",
            "\u001b[?25hDownloading scipy-1.10.1-cp311-cp311-manylinux_2_17_x86_64.manylinux2014_x86_64.whl (34.1 MB)\n",
            "\u001b[2K   \u001b[90m━━━━━━━━━━━━━━━━━━━━━━━━━━━━━━━━━━━━━━━━\u001b[0m \u001b[32m34.1/34.1 MB\u001b[0m \u001b[31m15.1 MB/s\u001b[0m eta \u001b[36m0:00:00\u001b[0m\n",
            "\u001b[?25hDownloading torch-2.0.0-cp311-cp311-manylinux1_x86_64.whl (619.9 MB)\n",
            "\u001b[2K   \u001b[90m━━━━━━━━━━━━━━━━━━━━━━━━━━━━━━━━━━━━━━━\u001b[0m \u001b[32m619.9/619.9 MB\u001b[0m \u001b[31m771.9 kB/s\u001b[0m eta \u001b[36m0:00:00\u001b[0m\n",
            "\u001b[?25hDownloading nvidia_cublas_cu11-11.10.3.66-py3-none-manylinux1_x86_64.whl (317.1 MB)\n",
            "\u001b[2K   \u001b[90m━━━━━━━━━━━━━━━━━━━━━━━━━━━━━━━━━━━━━━━━\u001b[0m \u001b[32m317.1/317.1 MB\u001b[0m \u001b[31m4.6 MB/s\u001b[0m eta \u001b[36m0:00:00\u001b[0m\n",
            "\u001b[?25hDownloading nvidia_cuda_cupti_cu11-11.7.101-py3-none-manylinux1_x86_64.whl (11.8 MB)\n",
            "\u001b[2K   \u001b[90m━━━━━━━━━━━━━━━━━━━━━━━━━━━━━━━━━━━━━━━━\u001b[0m \u001b[32m11.8/11.8 MB\u001b[0m \u001b[31m61.5 MB/s\u001b[0m eta \u001b[36m0:00:00\u001b[0m\n",
            "\u001b[?25hDownloading nvidia_cuda_nvrtc_cu11-11.7.99-2-py3-none-manylinux1_x86_64.whl (21.0 MB)\n",
            "\u001b[2K   \u001b[90m━━━━━━━━━━━━━━━━━━━━━━━━━━━━━━━━━━━━━━━━\u001b[0m \u001b[32m21.0/21.0 MB\u001b[0m \u001b[31m55.9 MB/s\u001b[0m eta \u001b[36m0:00:00\u001b[0m\n",
            "\u001b[?25hDownloading nvidia_cuda_runtime_cu11-11.7.99-py3-none-manylinux1_x86_64.whl (849 kB)\n",
            "\u001b[2K   \u001b[90m━━━━━━━━━━━━━━━━━━━━━━━━━━━━━━━━━━━━━━━━\u001b[0m \u001b[32m849.3/849.3 kB\u001b[0m \u001b[31m39.3 MB/s\u001b[0m eta \u001b[36m0:00:00\u001b[0m\n",
            "\u001b[?25hDownloading nvidia_cudnn_cu11-8.5.0.96-2-py3-none-manylinux1_x86_64.whl (557.1 MB)\n",
            "\u001b[2K   \u001b[90m━━━━━━━━━━━━━━━━━━━━━━━━━━━━━━━━━━━━━━━━\u001b[0m \u001b[32m557.1/557.1 MB\u001b[0m \u001b[31m1.3 MB/s\u001b[0m eta \u001b[36m0:00:00\u001b[0m\n",
            "\u001b[?25hDownloading nvidia_cufft_cu11-10.9.0.58-py3-none-manylinux2014_x86_64.whl (168.4 MB)\n",
            "\u001b[2K   \u001b[90m━━━━━━━━━━━━━━━━━━━━━━━━━━━━━━━━━━━━━━━━\u001b[0m \u001b[32m168.4/168.4 MB\u001b[0m \u001b[31m5.8 MB/s\u001b[0m eta \u001b[36m0:00:00\u001b[0m\n",
            "\u001b[?25hDownloading nvidia_curand_cu11-10.2.10.91-py3-none-manylinux1_x86_64.whl (54.6 MB)\n",
            "\u001b[2K   \u001b[90m━━━━━━━━━━━━━━━━━━━━━━━━━━━━━━━━━━━━━━━━\u001b[0m \u001b[32m54.6/54.6 MB\u001b[0m \u001b[31m11.7 MB/s\u001b[0m eta \u001b[36m0:00:00\u001b[0m\n",
            "\u001b[?25hDownloading nvidia_cusolver_cu11-11.4.0.1-2-py3-none-manylinux1_x86_64.whl (102.6 MB)\n",
            "\u001b[2K   \u001b[90m━━━━━━━━━━━━━━━━━━━━━━━━━━━━━━━━━━━━━━━━\u001b[0m \u001b[32m102.6/102.6 MB\u001b[0m \u001b[31m9.8 MB/s\u001b[0m eta \u001b[36m0:00:00\u001b[0m\n",
            "\u001b[?25hDownloading nvidia_cusparse_cu11-11.7.4.91-py3-none-manylinux1_x86_64.whl (173.2 MB)\n",
            "\u001b[2K   \u001b[90m━━━━━━━━━━━━━━━━━━━━━━━━━━━━━━━━━━━━━━━━\u001b[0m \u001b[32m173.2/173.2 MB\u001b[0m \u001b[31m6.0 MB/s\u001b[0m eta \u001b[36m0:00:00\u001b[0m\n",
            "\u001b[?25hDownloading nvidia_nccl_cu11-2.14.3-py3-none-manylinux1_x86_64.whl (177.1 MB)\n",
            "\u001b[2K   \u001b[90m━━━━━━━━━━━━━━━━━━━━━━━━━━━━━━━━━━━━━━━━\u001b[0m \u001b[32m177.1/177.1 MB\u001b[0m \u001b[31m8.3 MB/s\u001b[0m eta \u001b[36m0:00:00\u001b[0m\n",
            "\u001b[?25hDownloading nvidia_nvtx_cu11-11.7.91-py3-none-manylinux1_x86_64.whl (98 kB)\n",
            "\u001b[2K   \u001b[90m━━━━━━━━━━━━━━━━━━━━━━━━━━━━━━━━━━━━━━━━\u001b[0m \u001b[32m98.6/98.6 kB\u001b[0m \u001b[31m7.5 MB/s\u001b[0m eta \u001b[36m0:00:00\u001b[0m\n",
            "\u001b[?25hDownloading triton-2.0.0-1-cp311-cp311-manylinux2014_x86_64.manylinux_2_17_x86_64.whl (63.3 MB)\n",
            "\u001b[2K   \u001b[90m━━━━━━━━━━━━━━━━━━━━━━━━━━━━━━━━━━━━━━━━\u001b[0m \u001b[32m63.3/63.3 MB\u001b[0m \u001b[31m11.5 MB/s\u001b[0m eta \u001b[36m0:00:00\u001b[0m\n",
            "\u001b[?25hDownloading session_info-1.0.1-py3-none-any.whl (9.1 kB)\n",
            "Downloading lit-18.1.8-py3-none-any.whl (96 kB)\n",
            "\u001b[2K   \u001b[90m━━━━━━━━━━━━━━━━━━━━━━━━━━━━━━━━━━━━━━━━\u001b[0m \u001b[32m96.4/96.4 kB\u001b[0m \u001b[31m7.6 MB/s\u001b[0m eta \u001b[36m0:00:00\u001b[0m\n",
            "\u001b[?25hDownloading stdlib_list-0.11.1-py3-none-any.whl (83 kB)\n",
            "\u001b[2K   \u001b[90m━━━━━━━━━━━━━━━━━━━━━━━━━━━━━━━━━━━━━━━━\u001b[0m \u001b[32m83.6/83.6 kB\u001b[0m \u001b[31m6.7 MB/s\u001b[0m eta \u001b[36m0:00:00\u001b[0m\n",
            "\u001b[?25hInstalling collected packages: lit, stdlib_list, nvidia-nvtx-cu11, nvidia-nccl-cu11, nvidia-cusparse-cu11, nvidia-curand-cu11, nvidia-cufft-cu11, nvidia-cuda-runtime-cu11, nvidia-cuda-nvrtc-cu11, nvidia-cuda-cupti-cu11, nvidia-cublas-cu11, numpy, session-info, scipy, pandas, nvidia-cusolver-cu11, nvidia-cudnn-cu11, scikit-learn, matplotlib, anndata, seaborn, scanpy, triton, torch\n",
            "  Attempting uninstall: numpy\n",
            "    Found existing installation: numpy 1.26.4\n",
            "    Uninstalling numpy-1.26.4:\n",
            "      Successfully uninstalled numpy-1.26.4\n",
            "  Attempting uninstall: scipy\n",
            "    Found existing installation: scipy 1.15.3\n",
            "    Uninstalling scipy-1.15.3:\n",
            "      Successfully uninstalled scipy-1.15.3\n",
            "  Attempting uninstall: pandas\n",
            "    Found existing installation: pandas 2.2.2\n",
            "    Uninstalling pandas-2.2.2:\n",
            "      Successfully uninstalled pandas-2.2.2\n",
            "  Attempting uninstall: scikit-learn\n",
            "    Found existing installation: scikit-learn 1.6.1\n",
            "    Uninstalling scikit-learn-1.6.1:\n",
            "      Successfully uninstalled scikit-learn-1.6.1\n",
            "  Attempting uninstall: matplotlib\n",
            "    Found existing installation: matplotlib 3.10.0\n",
            "    Uninstalling matplotlib-3.10.0:\n",
            "      Successfully uninstalled matplotlib-3.10.0\n",
            "  Attempting uninstall: anndata\n",
            "    Found existing installation: anndata 0.11.4\n",
            "    Uninstalling anndata-0.11.4:\n",
            "      Successfully uninstalled anndata-0.11.4\n",
            "  Attempting uninstall: seaborn\n",
            "    Found existing installation: seaborn 0.13.2\n",
            "    Uninstalling seaborn-0.13.2:\n",
            "      Successfully uninstalled seaborn-0.13.2\n",
            "  Attempting uninstall: scanpy\n",
            "    Found existing installation: scanpy 1.11.2\n",
            "    Uninstalling scanpy-1.11.2:\n",
            "      Successfully uninstalled scanpy-1.11.2\n",
            "  Attempting uninstall: triton\n",
            "    Found existing installation: triton 3.2.0\n",
            "    Uninstalling triton-3.2.0:\n",
            "      Successfully uninstalled triton-3.2.0\n",
            "  Attempting uninstall: torch\n",
            "    Found existing installation: torch 2.6.0+cu124\n",
            "    Uninstalling torch-2.6.0+cu124:\n",
            "      Successfully uninstalled torch-2.6.0+cu124\n",
            "\u001b[31mERROR: pip's dependency resolver does not currently take into account all the packages that are installed. This behaviour is the source of the following dependency conflicts.\n",
            "google-colab 1.0.0 requires pandas==2.2.2, but you have pandas 1.5.3 which is incompatible.\n",
            "imbalanced-learn 0.13.0 requires numpy<3,>=1.24.3, but you have numpy 1.23.5 which is incompatible.\n",
            "imbalanced-learn 0.13.0 requires scikit-learn<2,>=1.3.2, but you have scikit-learn 1.2.2 which is incompatible.\n",
            "albucore 0.0.24 requires numpy>=1.24.4, but you have numpy 1.23.5 which is incompatible.\n",
            "xarray-einstats 0.9.0 requires numpy>=1.25, but you have numpy 1.23.5 which is incompatible.\n",
            "xarray-einstats 0.9.0 requires scipy>=1.11, but you have scipy 1.10.1 which is incompatible.\n",
            "tensorflow 2.18.0 requires numpy<2.1.0,>=1.26.0, but you have numpy 1.23.5 which is incompatible.\n",
            "dask-cudf-cu12 25.2.2 requires pandas<2.2.4dev0,>=2.0, but you have pandas 1.5.3 which is incompatible.\n",
            "tsfresh 0.21.0 requires scipy>=1.14.0; python_version >= \"3.10\", but you have scipy 1.10.1 which is incompatible.\n",
            "plotnine 0.14.5 requires matplotlib>=3.8.0, but you have matplotlib 3.7.1 which is incompatible.\n",
            "plotnine 0.14.5 requires pandas>=2.2.0, but you have pandas 1.5.3 which is incompatible.\n",
            "mizani 0.13.5 requires pandas>=2.2.0, but you have pandas 1.5.3 which is incompatible.\n",
            "cvxpy 1.6.6 requires scipy>=1.11.0, but you have scipy 1.10.1 which is incompatible.\n",
            "thinc 8.3.6 requires numpy<3.0.0,>=2.0.0, but you have numpy 1.23.5 which is incompatible.\n",
            "albumentations 2.0.8 requires numpy>=1.24.4, but you have numpy 1.23.5 which is incompatible.\n",
            "db-dtypes 1.4.3 requires numpy>=1.24.0, but you have numpy 1.23.5 which is incompatible.\n",
            "treescope 0.1.9 requires numpy>=1.25.2, but you have numpy 1.23.5 which is incompatible.\n",
            "jaxlib 0.5.1 requires numpy>=1.25, but you have numpy 1.23.5 which is incompatible.\n",
            "jaxlib 0.5.1 requires scipy>=1.11.1, but you have scipy 1.10.1 which is incompatible.\n",
            "torchaudio 2.6.0+cu124 requires torch==2.6.0, but you have torch 2.0.0 which is incompatible.\n",
            "dask-expr 1.1.21 requires pandas>=2, but you have pandas 1.5.3 which is incompatible.\n",
            "mlxtend 0.23.4 requires scikit-learn>=1.3.1, but you have scikit-learn 1.2.2 which is incompatible.\n",
            "bigframes 2.7.0 requires numpy>=1.24.0, but you have numpy 1.23.5 which is incompatible.\n",
            "xarray 2025.3.1 requires numpy>=1.24, but you have numpy 1.23.5 which is incompatible.\n",
            "xarray 2025.3.1 requires pandas>=2.1, but you have pandas 1.5.3 which is incompatible.\n",
            "jax 0.5.2 requires numpy>=1.25, but you have numpy 1.23.5 which is incompatible.\n",
            "jax 0.5.2 requires scipy>=1.11.1, but you have scipy 1.10.1 which is incompatible.\n",
            "torchvision 0.21.0+cu124 requires torch==2.6.0, but you have torch 2.0.0 which is incompatible.\n",
            "chex 0.1.89 requires numpy>=1.24.1, but you have numpy 1.23.5 which is incompatible.\n",
            "blosc2 3.4.0 requires numpy>=1.26, but you have numpy 1.23.5 which is incompatible.\n",
            "pymc 5.23.0 requires numpy>=1.25.0, but you have numpy 1.23.5 which is incompatible.\n",
            "cudf-cu12 25.2.1 requires pandas<2.2.4dev0,>=2.0, but you have pandas 1.5.3 which is incompatible.\n",
            "scikit-image 0.25.2 requires numpy>=1.24, but you have numpy 1.23.5 which is incompatible.\n",
            "scikit-image 0.25.2 requires scipy>=1.11.4, but you have scipy 1.10.1 which is incompatible.\u001b[0m\u001b[31m\n",
            "\u001b[0mSuccessfully installed anndata-0.9.1 lit-18.1.8 matplotlib-3.7.1 numpy-1.23.5 nvidia-cublas-cu11-11.10.3.66 nvidia-cuda-cupti-cu11-11.7.101 nvidia-cuda-nvrtc-cu11-11.7.99 nvidia-cuda-runtime-cu11-11.7.99 nvidia-cudnn-cu11-8.5.0.96 nvidia-cufft-cu11-10.9.0.58 nvidia-curand-cu11-10.2.10.91 nvidia-cusolver-cu11-11.4.0.1 nvidia-cusparse-cu11-11.7.4.91 nvidia-nccl-cu11-2.14.3 nvidia-nvtx-cu11-11.7.91 pandas-1.5.3 scanpy-1.9.3 scikit-learn-1.2.2 scipy-1.10.1 seaborn-0.12.2 session-info-1.0.1 stdlib_list-0.11.1 torch-2.0.0 triton-2.0.0\n"
          ]
        },
        {
          "output_type": "display_data",
          "data": {
            "application/vnd.colab-display-data+json": {
              "pip_warning": {
                "packages": [
                  "anndata",
                  "matplotlib",
                  "mpl_toolkits",
                  "numpy",
                  "pandas",
                  "scanpy",
                  "scipy",
                  "seaborn",
                  "sklearn",
                  "torch",
                  "torchgen"
                ]
              },
              "id": "9bfa35a7848e49ecbcc8ed372f281160"
            }
          },
          "metadata": {}
        }
      ],
      "source": [
        "!pip install \\\n",
        "  cytotrace2-py \\\n",
        "  scanpy \\\n",
        "  anndata \\\n",
        "  pandas \\\n",
        "  scipy \\\n",
        "  scikit-learn \\\n",
        "  torch \\\n",
        "  matplotlib \\\n",
        "  seaborn"
      ]
    },
    {
      "cell_type": "markdown",
      "id": "c7b34351-e346-4b7c-98a4-0845cabc2dac",
      "metadata": {
        "id": "c7b34351-e346-4b7c-98a4-0845cabc2dac"
      },
      "source": [
        "# import packages and suppress irrelevant warnings"
      ]
    },
    {
      "cell_type": "code",
      "execution_count": 2,
      "id": "4ba42c21-4821-4334-8248-5e0cf531f6cb",
      "metadata": {
        "id": "4ba42c21-4821-4334-8248-5e0cf531f6cb"
      },
      "outputs": [],
      "source": [
        "import warnings\n",
        "import logging\n",
        "import matplotlib\n",
        "\n",
        "# suppress the Helvetica font\n",
        "warnings.filterwarnings(\"ignore\", message=\"findfont: Font family\")\n",
        "# Suppress font-related messages\n",
        "logging.getLogger('matplotlib.font_manager').setLevel(logging.ERROR)\n",
        "\n",
        "# Suppress the deprecation warning from cytotrace2_py\n",
        "warnings.filterwarnings(\n",
        "    \"ignore\",\n",
        "    message=\"pkg_resources is deprecated as an API.*\",\n",
        "    category=UserWarning,\n",
        "    module=\"cytotrace2_py.common.gen_utils\"\n",
        ")"
      ]
    },
    {
      "cell_type": "code",
      "execution_count": 3,
      "id": "ef6e69c1-6462-4411-abf9-93981932c140",
      "metadata": {
        "scrolled": true,
        "id": "ef6e69c1-6462-4411-abf9-93981932c140"
      },
      "outputs": [],
      "source": [
        "import gdown\n",
        "import os\n",
        "import requests\n",
        "import pandas as pd\n",
        "from cytotrace2_py.cytotrace2_py import cytotrace2\n",
        "import matplotlib.pyplot as plt"
      ]
    },
    {
      "cell_type": "markdown",
      "id": "8f49c662-5e1e-4726-a499-b26d8c91ba49",
      "metadata": {
        "id": "8f49c662-5e1e-4726-a499-b26d8c91ba49"
      },
      "source": [
        "# Download expression file and annotatin file"
      ]
    },
    {
      "cell_type": "code",
      "execution_count": 8,
      "id": "78da2b7d-a3a0-428a-aabc-7f8a9c50a97b",
      "metadata": {
        "colab": {
          "base_uri": "https://localhost:8080/"
        },
        "id": "78da2b7d-a3a0-428a-aabc-7f8a9c50a97b",
        "outputId": "b40b5816-b333-4d99-a34f-bd507bbbeea5"
      },
      "outputs": [
        {
          "output_type": "stream",
          "name": "stderr",
          "text": [
            "Downloading...\n",
            "From (original): https://drive.google.com/uc?id=11eI1gSBoBqn9ccvBbthZ2nPW3CENsKbT\n",
            "From (redirected): https://drive.google.com/uc?id=11eI1gSBoBqn9ccvBbthZ2nPW3CENsKbT&confirm=t&uuid=68755ad8-7735-4428-93df-890d346e4a1c\n",
            "To: /content/data/Pancreas_10x_downsampled_expression.txt\n",
            "\n",
            "  0%|          | 0.00/160M [00:00<?, ?B/s]\u001b[A\n",
            "  9%|▉         | 14.2M/160M [00:00<00:01, 141MB/s]\u001b[A\n",
            " 21%|██▏       | 34.1M/160M [00:00<00:00, 130MB/s]\u001b[A\n",
            " 30%|██▉       | 47.7M/160M [00:00<00:01, 75.8MB/s]\u001b[A\n",
            " 40%|███▉      | 63.4M/160M [00:00<00:01, 74.1MB/s]\u001b[A\n",
            " 51%|█████     | 81.8M/160M [00:00<00:00, 96.9MB/s]\u001b[A\n",
            " 59%|█████▊    | 93.8M/160M [00:01<00:00, 80.8MB/s]\u001b[A\n",
            " 69%|██████▉   | 111M/160M [00:01<00:00, 98.2MB/s] \u001b[A\n",
            " 77%|███████▋  | 123M/160M [00:01<00:00, 90.2MB/s]\u001b[A\n",
            " 84%|████████▍ | 135M/160M [00:01<00:00, 97.6MB/s]\u001b[A\n",
            " 92%|█████████▏| 147M/160M [00:01<00:00, 73.1MB/s]\u001b[A\n",
            "100%|██████████| 160M/160M [00:01<00:00, 87.6MB/s]\n",
            "Downloading...\n",
            "From: https://drive.google.com/uc?id=1UESeZJDl2qWYnSu0VQQA5igpEbtxZPgq\n",
            "To: /content/data/Pancreas_10x_downsampled_annotation.txt\n",
            "\n",
            "100%|██████████| 126k/126k [00:00<00:00, 61.1MB/s]\n"
          ]
        }
      ],
      "source": [
        "os.makedirs(\"data\", exist_ok=True)\n",
        "\n",
        "outputs = [\"data/Pancreas_10x_downsampled_expression.txt\", \"data/Pancreas_10x_downsampled_annotation.txt\"]\n",
        "file_ids = [\"11eI1gSBoBqn9ccvBbthZ2nPW3CENsKbT\", \"1UESeZJDl2qWYnSu0VQQA5igpEbtxZPgq\"]\n",
        "for i, f_id in enumerate(file_ids):\n",
        "    url = f\"https://drive.google.com/uc?id={f_id}\"\n",
        "    # Download only if the file doesn't already exist\n",
        "    if not os.path.exists(outputs[i]):\n",
        "        gdown.download(url, outputs[i], quiet=False)\n",
        "    else:\n",
        "        print(\"Dataset already downloaded.\")"
      ]
    },
    {
      "cell_type": "markdown",
      "id": "709f6860-ada8-41e7-9901-f21f55797a54",
      "metadata": {
        "id": "709f6860-ada8-41e7-9901-f21f55797a54"
      },
      "source": [
        "# What is expression file?"
      ]
    },
    {
      "cell_type": "code",
      "execution_count": 9,
      "id": "b48f0d29-c92f-4e4e-8064-95a387ad7640",
      "metadata": {
        "id": "b48f0d29-c92f-4e4e-8064-95a387ad7640"
      },
      "outputs": [],
      "source": [
        "expression = pd.read_csv(\"data/Pancreas_10x_downsampled_expression.txt\", sep='\\t')"
      ]
    },
    {
      "cell_type": "markdown",
      "id": "2d801ab5-d348-411a-ad84-4dab411dc7c9",
      "metadata": {
        "id": "2d801ab5-d348-411a-ad84-4dab411dc7c9"
      },
      "source": [
        "### Columns = individual cells\n",
        "\n",
        "* Each column label (e.g. `TCTAATAGGAGCGAG_1_2`) is a **`cellID`**\n",
        "* These come from the sequencing process (droplet barcodes) — they **identify individual cells**, not **cell types**\n",
        "* So `cellID ≠ cell type`\n",
        "* The corresponding **cell type or \"phenotype\"** must come from a **separate annotation file**\n",
        "\n",
        "\n",
        "### Rows = individual genes\n",
        "\n",
        "* Each row is a gene symbol (e.g., `Xkr4`, `Rp1`, `Gm1992`)\n",
        "\n",
        "\n",
        "### Values = expression levels\n",
        "\n",
        "* The values are typically raw counts or normalized values (Counts Per Million)\n",
        "  * e.g., how many times mRNA for `Xkr4` was detected in that cell\n",
        "* A `0` means no expression for that gene in that cell\n",
        "* A `10`, `500`, etc. means that gene was transcribed that many times (or normalized to that magnitude)\n"
      ]
    },
    {
      "cell_type": "markdown",
      "id": "98de9434-2402-4d6d-942b-a7d9c6b504ee",
      "metadata": {
        "id": "98de9434-2402-4d6d-942b-a7d9c6b504ee"
      },
      "source": [
        "# What is the annotation file?"
      ]
    },
    {
      "cell_type": "code",
      "execution_count": null,
      "id": "fe37ee9e-ecb1-41de-adc2-2aa17ea44094",
      "metadata": {
        "id": "fe37ee9e-ecb1-41de-adc2-2aa17ea44094"
      },
      "outputs": [],
      "source": [
        "annotation = pd.read_csv(\"data/Pancreas_10x_downsampled_annotation.txt\", sep='\\t')"
      ]
    },
    {
      "cell_type": "code",
      "execution_count": null,
      "id": "ab042fa9-1cb6-450a-ab08-b6fca5a11ee2",
      "metadata": {
        "scrolled": true,
        "id": "ab042fa9-1cb6-450a-ab08-b6fca5a11ee2"
      },
      "outputs": [],
      "source": [
        "annotation.head()"
      ]
    },
    {
      "cell_type": "markdown",
      "id": "9f65b071-a3af-4c22-9342-34ac6e2f4468",
      "metadata": {
        "id": "9f65b071-a3af-4c22-9342-34ac6e2f4468"
      },
      "source": [
        "The first column are indicies of **cellID** and the second column is **phenotype**"
      ]
    },
    {
      "cell_type": "markdown",
      "id": "8567a8d2-bd78-4107-9bd4-394364833808",
      "metadata": {
        "jp-MarkdownHeadingCollapsed": true,
        "id": "8567a8d2-bd78-4107-9bd4-394364833808"
      },
      "source": [
        "> In single-cell RNA-seq, you're measuring **gene expression in thousands (or millions) of individual cells**, so each cell **must have a unique identifier** — that's what the `cellID` is for.\n",
        "\n",
        "\n",
        "### Why `cellID` is essential:\n",
        "\n",
        "1. **Each row of expression data = one cell**\n",
        "\n",
        "   * You're working with a matrix: **cells × genes**\n",
        "   * So you need a unique `cellID` to know which expression profile belongs to which cell\n",
        "\n",
        "2. **No pre-existing IDs in the body**\n",
        "\n",
        "   * Your body doesn't label cells with barcodes\n",
        "   * So the sequencing pipeline assigns artificial IDs during the experiment\n",
        "\n",
        "3. **You need it to match annotations**\n",
        "\n",
        "   * If you cluster cells (e.g., by expression), or label them by type (like \"Epsilon cell\"), those labels must be linked to **specific cells** using their `cellID`\n",
        "\n",
        "\n",
        "### What it looks like in practice:\n",
        "\n",
        "| `cellID`               | `gene1` | `gene2` | ... | `phenotype`             |\n",
        "| ---------------------- | ------- | ------- | --- | ----------------------- |\n",
        "| `GGTATTGAGTCGTACT_1_0` | 5       | 0       | ... | Epsilon cell            |\n",
        "| `GTAACTGGTCACTGGC_1_3` | 0       | 8       | ... | Immature endocrine cell |\n",
        "\n",
        "* `cellID` lets you join expression data and annotation\n",
        "* Without `cellID`, you’d have no way to say **which cell is which**\n"
      ]
    },
    {
      "cell_type": "code",
      "execution_count": null,
      "id": "1c93fc2a-5e4a-4b57-acc1-44cd5bc5f09e",
      "metadata": {
        "id": "1c93fc2a-5e4a-4b57-acc1-44cd5bc5f09e"
      },
      "outputs": [],
      "source": [
        "# list all possbile cell type\n",
        "annotation['phenotype'].unique()"
      ]
    },
    {
      "cell_type": "markdown",
      "id": "547ff9a1-703d-4568-a098-be4238d7ce68",
      "metadata": {
        "id": "547ff9a1-703d-4568-a098-be4238d7ce68"
      },
      "source": [
        "## What are these \"phenotype\" e.g. Alpha, Beta, Epsilon, and Endocrine Precursor Cells?\n",
        "\n",
        "These are all **cell types** found in the **pancreas**, specifically in the islets of Langerhans, a region involved in hormone production (like insulin and glucagon).\n",
        "\n",
        "They’re biologically distinct cell types, each with a specific function, and each with a unique gene expression signature that allows us to identify them in single-cell RNA-seq data.\n",
        "\n",
        "> A cell type is defined by the set of genes it expresses, especially marker genes that are unique or highly active in that type.\n",
        "\n",
        "* These phenotype labels were assigned based on the clustering of gene expression profiles using marker genes.\n",
        "  \n",
        "> Clustering + marker gene expression $\\rightarrow$ label = Alpha, Beta, etc.\n",
        "\n",
        "* Each type expresses specific marker genes. For example:\n",
        "\n",
        "  * Beta cells: INS (insulin)\n",
        "  * Alpha cells: GCG (glucagon)\n",
        "  * Epsilon cells: GHRL (ghrelin)\n",
        "  * Precursor cells: lower or mixed expression of these markers\n",
        "\n",
        "* Same cell type means similar overall gene expression profile. But there is still some natural variability:\n",
        "    - Due to the cell cycle\n",
        "    - Environmental cues\n",
        "    - Technical noise in the experiment\n",
        "\n",
        "### How was this likely done?\n",
        "\n",
        "1. The original expression matrix was clustered (e.g., with Louvain or Leiden)\n",
        "2. For each cluster, marker genes were checked:\n",
        "\n",
        "   * If cells express `INS`, they’re Beta\n",
        "   * If they express `GCG`, they’re Alpha\n",
        "   * If they express none or some, they are likely not yet fully differentiated and are labeled as precursors or immature.\n",
        "3. The label was saved as `phenotype`\n"
      ]
    },
    {
      "cell_type": "markdown",
      "id": "38c3cd77-7d3c-4528-85bd-0da3fc0699d4",
      "metadata": {
        "id": "38c3cd77-7d3c-4528-85bd-0da3fc0699d4"
      },
      "source": [
        "# To find the cell type of a column:"
      ]
    },
    {
      "cell_type": "code",
      "execution_count": null,
      "id": "d6e43f5a-2575-4c9a-b3dd-02ebfd5eb3e6",
      "metadata": {
        "id": "d6e43f5a-2575-4c9a-b3dd-02ebfd5eb3e6"
      },
      "outputs": [],
      "source": [
        "# assuming you have expression (genes × cells) and annotation (cellID → phenotype)\n",
        "# example: look up cell type for one column\n",
        "cell_id = \"CTCTAATAGGAGCGAG_1_2\"\n",
        "annotation.loc[cell_id]"
      ]
    },
    {
      "cell_type": "markdown",
      "id": "580c5f21-4aa0-4e4c-8dd8-38109c825ea5",
      "metadata": {
        "id": "580c5f21-4aa0-4e4c-8dd8-38109c825ea5"
      },
      "source": [
        "# Run Cytotrace2"
      ]
    },
    {
      "cell_type": "code",
      "execution_count": null,
      "id": "16fd1f6a-8775-469a-a968-f1b0317bb1ad",
      "metadata": {
        "id": "16fd1f6a-8775-469a-a968-f1b0317bb1ad"
      },
      "outputs": [],
      "source": [
        "plt.rcParams['font.family'] = 'DejaVu Sans' # Use a generic font"
      ]
    },
    {
      "cell_type": "code",
      "execution_count": null,
      "id": "b13774b3-7de0-48ce-8934-ac96554c8e65",
      "metadata": {
        "id": "b13774b3-7de0-48ce-8934-ac96554c8e65"
      },
      "outputs": [],
      "source": [
        "from cytotrace2_py.cytotrace2_py import *\n",
        "\n",
        "results =  cytotrace2(\"data/Pancreas_10x_downsampled_expression.txt\",\n",
        "                      annotation_path=\"data/Pancreas_10x_downsampled_annotation.txt\",\n",
        "                      species=\"mouse\")"
      ]
    }
  ],
  "metadata": {
    "kernelspec": {
      "display_name": "cytotrace2",
      "language": "python",
      "name": "cytotrace2"
    },
    "language_info": {
      "codemirror_mode": {
        "name": "ipython",
        "version": 3
      },
      "file_extension": ".py",
      "mimetype": "text/x-python",
      "name": "python",
      "nbconvert_exporter": "python",
      "pygments_lexer": "ipython3",
      "version": "3.12.0"
    },
    "colab": {
      "provenance": []
    }
  },
  "nbformat": 4,
  "nbformat_minor": 5
}